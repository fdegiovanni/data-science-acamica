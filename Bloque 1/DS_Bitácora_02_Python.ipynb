{
  "nbformat": 4,
  "nbformat_minor": 0,
  "metadata": {
    "colab": {
      "name": "DS_Bitácora_02_Python.ipynb",
      "provenance": [],
      "collapsed_sections": []
    },
    "kernelspec": {
      "display_name": "Python 3",
      "language": "python",
      "name": "python3"
    },
    "language_info": {
      "codemirror_mode": {
        "name": "ipython",
        "version": 3
      },
      "file_extension": ".py",
      "mimetype": "text/x-python",
      "name": "python",
      "nbconvert_exporter": "python",
      "pygments_lexer": "ipython3",
      "version": "3.7.6"
    }
  },
  "cells": [
    {
      "cell_type": "markdown",
      "metadata": {
        "colab_type": "text",
        "id": "aDaMLDnAPBMf"
      },
      "source": [
        "# Introducción a Python\n",
        "\n",
        "En este notebook vamos a recorrer algunos conceptos básicos de programación en general y como los aplicamos con Python. Recomendamos ir haciéndolo con algún recurso que hayan elegido - más adelante te dejamos uno - y con el buscador de Google como su mejor amigo. Existen muchísimos recursos de libre acceso disponibles para ayudarnos, recomendamos https://learnxinyminutes.com/docs/python3/ o los otros mencionados en las bitácoras.\n",
        "\n",
        "\n",
        "**Recomendación**: además de realizar los ejercicios, les sugerimos fuertemente que vayan probando y modificando el código presente en este notebook. La mejor manera de aprender es haciendo, 'romper' el código e intentar entender porque dejó de funcionar. ¡No hay nada irreversible, no tengas miedo! Siempre podés volver a descargar el notebook.\n",
        "\n",
        "## 1. Variables, Tipos de Datos y Operaciones\n",
        "\n",
        "### 1.1 Variables\n",
        "\n",
        "Al crear una variable le estás poniendo un nombre a un objeto. Cada variable debe llevar un nombre a través del cual nos referimos a ella, los nombres deben ser únicos y, en lo posible, ser lo mas explícitos posibles para evitar confusiones. Usando el `=` se asigna un valor a una variable. No es un igual matemático/lógico, puedes pensarlo como una flecha (`<--`) que asigna lo que hay del lado derecho a lo que hay del lado izquierdo. Recordemos algunos ejemplos."
      ]
    },
    {
      "cell_type": "code",
      "metadata": {
        "colab_type": "code",
        "id": "Ejj7jqb9PBMk",
        "colab": {}
      },
      "source": [
        "# Asignamos el valor 3 a una variable que creamos, de nombre x\n",
        "x = 3\n",
        "\n",
        "# Evaluamos e imprimimos en pantalla el resultado\n",
        "print(x)"
      ],
      "execution_count": null,
      "outputs": []
    },
    {
      "cell_type": "code",
      "metadata": {
        "colab_type": "code",
        "id": "G0_JnDgrPBMu",
        "colab": {}
      },
      "source": [
        "# Asignamos el valor 15.7 a una nueva variable, de nombre y\n",
        "y = 15.7\n",
        "\n",
        "print(y)"
      ],
      "execution_count": null,
      "outputs": []
    },
    {
      "cell_type": "code",
      "metadata": {
        "colab_type": "code",
        "id": "1sVjKnS8PBM0",
        "colab": {}
      },
      "source": [
        "# Podemos definir una nueva variable como la suma de dos anteriores\n",
        "z = x + y\n",
        "\n",
        "print(z)"
      ],
      "execution_count": null,
      "outputs": []
    },
    {
      "cell_type": "markdown",
      "metadata": {
        "colab_type": "text",
        "id": "rRLxeWdMJvcP"
      },
      "source": [
        "Pero en las variables no necesariamente ponemos números, también podemos poner texto (*strings*)"
      ]
    },
    {
      "cell_type": "code",
      "metadata": {
        "colab_type": "code",
        "id": "n-OyQw00PBM6",
        "colab": {}
      },
      "source": [
        "# Se peude tambier asignar un valor de texto otra variable\n",
        "un_texto = 'HOLA!'\n",
        "\n",
        "print(un_texto)"
      ],
      "execution_count": null,
      "outputs": []
    },
    {
      "cell_type": "markdown",
      "metadata": {
        "colab_type": "text",
        "id": "Y0t7En_OJvcb"
      },
      "source": [
        "**Probar:** ejecutar la siguiente celda. ¿Cuál es la diferencia?"
      ]
    },
    {
      "cell_type": "code",
      "metadata": {
        "colab_type": "code",
        "id": "RlzXb8nYJvcd",
        "colab": {}
      },
      "source": [
        "print(un_texto)\n",
        "print('un_texto')"
      ],
      "execution_count": null,
      "outputs": []
    },
    {
      "cell_type": "markdown",
      "metadata": {
        "colab_type": "text",
        "id": "ScGT3xT4Jvcl"
      },
      "source": [
        "Si queremos, podemos borrar alguna variable que ya no utilizaremos más"
      ]
    },
    {
      "cell_type": "code",
      "metadata": {
        "colab_type": "code",
        "id": "Dj_DJGDOPBNB",
        "colab": {}
      },
      "source": [
        "del(un_texto)\n",
        "print(un_texto)"
      ],
      "execution_count": null,
      "outputs": []
    },
    {
      "cell_type": "markdown",
      "metadata": {
        "colab_type": "text",
        "id": "x3UOib9UPBNG"
      },
      "source": [
        "**Nota importante**: al correr esta ultima linea, deben ver un mensaje de error. Los mensajes de error son MUY IMPORTANTES. Nos brindan información muy valiosa cuando nuestro código no funciona. En este caso, nos está avisando que no puede imprimir la variable `un_texto`, ya que la eliminamos y no está definida.\n",
        "\n",
        "Muchas veces, para resolver el error, lo mejor que podemos hacer es googlearlo.¡Notar que en Colab ya nos da la opción de Googlear el error en Stack Overflow!"
      ]
    },
    {
      "cell_type": "markdown",
      "metadata": {
        "colab_type": "text",
        "id": "520n2L18PBNH"
      },
      "source": [
        "### 1.2 Tipos de Datos\n",
        "Cuando definimos una variable, dependiendo el contenido que le asignamos, la misma será de un determinado tipo. Los tipos de datos más comunes de variables son: `int`,`float`,`string` y `boolean`. Veamos algunos ejemplos de cada tipo."
      ]
    },
    {
      "cell_type": "code",
      "metadata": {
        "colab_type": "code",
        "id": "5MQYEBApPBNK",
        "colab": {}
      },
      "source": [
        "a = 42\n",
        "print(type(a))"
      ],
      "execution_count": null,
      "outputs": []
    },
    {
      "cell_type": "code",
      "metadata": {
        "colab_type": "code",
        "id": "E0g87gVfPBNP",
        "colab": {}
      },
      "source": [
        "b = 7.8\n",
        "print(type(b))"
      ],
      "execution_count": null,
      "outputs": []
    },
    {
      "cell_type": "code",
      "metadata": {
        "colab_type": "code",
        "id": "6SFdLEFIPBNW",
        "colab": {}
      },
      "source": [
        "c = True\n",
        "print(type(c))"
      ],
      "execution_count": null,
      "outputs": []
    },
    {
      "cell_type": "code",
      "metadata": {
        "colab_type": "code",
        "id": "i_cCG-iYPBNb",
        "colab": {}
      },
      "source": [
        "t1 = 'hola'\n",
        "print(type(\"hola\"))\n",
        "\n",
        "t2 = '523'\n",
        "print(type('t2'))"
      ],
      "execution_count": null,
      "outputs": []
    },
    {
      "cell_type": "markdown",
      "metadata": {
        "colab_type": "text",
        "id": "fAiC3ranPBNh"
      },
      "source": [
        "**Nota**: a pesar de ser un número, la variable `t2` es de tipo `string`. Esto se debe a que lo pusimos entre comillas."
      ]
    },
    {
      "cell_type": "code",
      "metadata": {
        "colab_type": "code",
        "id": "erSdYVqhPBNj",
        "colab": {}
      },
      "source": [
        "# Este es un tipo especial de variable, que se utiliza para simbolizar algo 'vacio'\n",
        "d = None\n",
        "print(type(d))"
      ],
      "execution_count": null,
      "outputs": []
    },
    {
      "cell_type": "markdown",
      "metadata": {
        "colab_type": "text",
        "id": "WhJ_nLaCPBNo"
      },
      "source": [
        "Si por algun motivo (ya veremos que esto es algo que suele suceder), uno desea explicitar el tipo de variable y no dejar que python lo asuma por si solo, esto también es posible."
      ]
    },
    {
      "cell_type": "code",
      "metadata": {
        "colab_type": "code",
        "id": "AvUDAvtpPBNp",
        "colab": {}
      },
      "source": [
        "numero = 45\n",
        "print(type(numero))\n",
        "\n",
        "# Quiero que sea un 'float' y no un int\n",
        "numero = float(45)\n",
        "print(type(numero))\n",
        "\n",
        "# Quiero que sea un 'string' y no un int\n",
        "numero = str(45)\n",
        "print(type(numero))"
      ],
      "execution_count": null,
      "outputs": []
    },
    {
      "cell_type": "code",
      "metadata": {
        "colab_type": "code",
        "id": "r6B6f_oOPBNv",
        "colab": {}
      },
      "source": [
        "otro_numero = 45.0\n",
        "print(type(otro_numero))\n",
        "\n",
        "# Quiero que sea un 'int' y no un 'float'\n",
        "otro_numero = int(45.0)\n",
        "print(type(otro_numero))"
      ],
      "execution_count": null,
      "outputs": []
    },
    {
      "cell_type": "markdown",
      "metadata": {
        "colab_type": "text",
        "id": "4EMswXwbPjLD"
      },
      "source": [
        "**Ejercicio**: Cambiar el tipo de la variable 'numero' a float."
      ]
    },
    {
      "cell_type": "code",
      "metadata": {
        "colab_type": "code",
        "id": "g6o0UHSbPuZu",
        "colab": {}
      },
      "source": [
        "numero = '5'\n",
        "numero = COMPLETAR\n",
        "\n",
        "# La siguientes lineas de codigo chequean si hiciste correctamente el ejercicio\n",
        "# No importa si no entiendes qué hace.\n",
        "if type(numero) is float:\n",
        "    print('Correcto!')\n",
        "else:\n",
        "    print('Convierte la variable a tipo float')"
      ],
      "execution_count": null,
      "outputs": []
    },
    {
      "cell_type": "markdown",
      "metadata": {
        "colab_type": "text",
        "id": "Zip2yREWPBN0"
      },
      "source": [
        "### 1.3 Operaciones\n",
        "Con las variables que definimos, podemos realizar distintas operaciones. Dependiendo el tipo de variable, hay diferentes operaciones diponibles. En este notebook veremos operaciones con números - `int` y `float`; más adelante veremos operaciones con texto.\n",
        "\n",
        "#### 1.3.1 Operaciones con números\n",
        "\n",
        "Se pueden realizar las operaciones basicas entre numeros\n"
      ]
    },
    {
      "cell_type": "code",
      "metadata": {
        "colab_type": "code",
        "id": "QbeN4rjGPBN2",
        "colab": {}
      },
      "source": [
        "a = 20\n",
        "b = 4\n",
        "print(a+b)\n",
        "print(a-b)"
      ],
      "execution_count": null,
      "outputs": []
    },
    {
      "cell_type": "markdown",
      "metadata": {
        "colab_type": "text",
        "id": "t4JcimwwJvd2"
      },
      "source": [
        "Se pueden realizar las operaciones incluso entre distintos tipos de variables"
      ]
    },
    {
      "cell_type": "code",
      "metadata": {
        "colab_type": "code",
        "id": "x7NDD_tJPBN6",
        "colab": {}
      },
      "source": [
        "a = 20\n",
        "b = 4.5\n",
        "\n",
        "c = a+b\n",
        "d = a-b\n",
        "\n",
        "print(c)\n",
        "print(d)"
      ],
      "execution_count": null,
      "outputs": []
    },
    {
      "cell_type": "markdown",
      "metadata": {
        "colab_type": "text",
        "id": "oNsWzLiBJvd-"
      },
      "source": [
        "¿De qué tipo es la variable resultante? Trata de adivinarlo antes de correr la celda siguiente."
      ]
    },
    {
      "cell_type": "code",
      "metadata": {
        "colab_type": "code",
        "id": "yZLqW2ZYPBN_",
        "colab": {}
      },
      "source": [
        "print(type(c))\n",
        "print(type(d))"
      ],
      "execution_count": null,
      "outputs": []
    },
    {
      "cell_type": "markdown",
      "metadata": {
        "colab_type": "text",
        "id": "bLtMd2Z_JveF"
      },
      "source": [
        "También podemos dividir números."
      ]
    },
    {
      "cell_type": "code",
      "metadata": {
        "colab_type": "code",
        "id": "z9kq2lEVPBOF",
        "colab": {}
      },
      "source": [
        "x = 10\n",
        "y = 3\n",
        "z = x/y\n",
        "print(z)"
      ],
      "execution_count": null,
      "outputs": []
    },
    {
      "cell_type": "markdown",
      "metadata": {
        "colab_type": "text",
        "id": "V-RQ8mBIJveM"
      },
      "source": [
        "¿De qué tipo es la variable resultante de hacer la división? A pesar de dividir dos números enteros, el resultado es de tipo `float`. ¡Ésta es una de las diferencias entre Python 2 y Python 3."
      ]
    },
    {
      "cell_type": "code",
      "metadata": {
        "colab_type": "code",
        "id": "IgJQDZ7MPBOI",
        "colab": {}
      },
      "source": [
        "print(type(z))"
      ],
      "execution_count": null,
      "outputs": []
    },
    {
      "cell_type": "markdown",
      "metadata": {
        "colab_type": "text",
        "id": "uxfV-jOYJved"
      },
      "source": [
        "La siguiente operación es muy usada en computación, nos devuelve el resto de la división. ¿No recuerdas qué es el resto? Puedes investigarlo [aquí](https://www.disfrutalasmatematicas.com/numeros/division-resto.html)."
      ]
    },
    {
      "cell_type": "code",
      "metadata": {
        "colab_type": "code",
        "id": "tZWn26P9PBON",
        "colab": {}
      },
      "source": [
        "x = 10\n",
        "y = 3\n",
        "print(x%y)\n",
        "print(type(x%y))"
      ],
      "execution_count": null,
      "outputs": []
    },
    {
      "cell_type": "markdown",
      "metadata": {
        "colab_type": "text",
        "id": "-5X5DceISQ-O"
      },
      "source": [
        "**Ejercicio**: Calcular el porcentaje que representa el valor 17 sobre un total de 54 y guardarlo en una variable llamada `porcentaje`."
      ]
    },
    {
      "cell_type": "code",
      "metadata": {
        "id": "RztYLbRnYG37",
        "colab_type": "code",
        "colab": {}
      },
      "source": [
        "# COMPLETAR"
      ],
      "execution_count": null,
      "outputs": []
    },
    {
      "cell_type": "markdown",
      "metadata": {
        "id": "sOTLmVfbvVj5",
        "colab_type": "text"
      },
      "source": [
        "#### **Ejercicio - Challenge**: calcula la suma y multiplicación de las variables `a`, `b` y `c`. ¡Presta atención al tipo de dato!"
      ]
    },
    {
      "cell_type": "code",
      "metadata": {
        "id": "JUyyfS0lvnWR",
        "colab_type": "code",
        "colab": {}
      },
      "source": [
        "a = '2'\n",
        "b = '-5.5'\n",
        "c = '7.8'\n",
        "\n",
        "# COMPLETAR"
      ],
      "execution_count": null,
      "outputs": []
    },
    {
      "cell_type": "markdown",
      "metadata": {
        "colab_type": "text",
        "id": "Rdo5rRsdPBO7"
      },
      "source": [
        "## 2. Listas y Loops\n",
        "\n",
        "Ya vimos los tipos de datos básicos de Python. Es hora de empezar a combinarlos.\n",
        "\n",
        "### 2.1 Listas\n",
        "\n",
        "Las listas un objeto central en el lenguaje Python. Están compuestas por una sucesión de objetos en un orden determinado. Se definen mediante corchetes `[]`, y los objetos dentro de ellas se separan por comas `,`. Veamos un ejemplo:"
      ]
    },
    {
      "cell_type": "code",
      "metadata": {
        "colab_type": "code",
        "id": "vA9XBz5mPBO8",
        "colab": {}
      },
      "source": [
        "lista_1 = [42, 10.7, True, 'Texto']\n",
        "print(lista_1)"
      ],
      "execution_count": null,
      "outputs": []
    },
    {
      "cell_type": "markdown",
      "metadata": {
        "colab_type": "text",
        "id": "286PH7uXJves"
      },
      "source": [
        "**Notar** que la lista puede contener varios tipos de datos diferentes sin ningún problema.\n",
        "\n",
        "Una pregunta muy usual que uno hace cuando trabaja con listas es cuántos elementos tiene. Esto lo podemos responder con el comando `len()`"
      ]
    },
    {
      "cell_type": "code",
      "metadata": {
        "colab_type": "code",
        "id": "D4nWSXKSPBO_",
        "colab": {}
      },
      "source": [
        "len(lista_1)"
      ],
      "execution_count": null,
      "outputs": []
    },
    {
      "cell_type": "markdown",
      "metadata": {
        "colab_type": "text",
        "id": "b0wCmLL2PBPC"
      },
      "source": [
        "#### Indexado\n",
        "\n",
        "Cada elemento de una lista tiene asignada una posición (*índice*) que podemos usar para inspeccionar ese elemento u operar con él. Los índices **empiezan en 0**, y se especifican poniendo corchetes con el índice dentro luego del nombre de la lista:"
      ]
    },
    {
      "cell_type": "code",
      "metadata": {
        "colab_type": "code",
        "id": "Jepw64oFPBPC",
        "colab": {}
      },
      "source": [
        "lista_2 = [5, 6.0,'Un poco de texto',-5, False, 'Más texto', True, 100]\n",
        "\n",
        "print(lista_2[0])\n",
        "print(lista_2[1])\n",
        "print(lista_2[2])"
      ],
      "execution_count": null,
      "outputs": []
    },
    {
      "cell_type": "markdown",
      "metadata": {
        "colab_type": "text",
        "id": "WOz0qLeiJve4"
      },
      "source": [
        "**Ejercicio**: imprimir el séptimo elemento de `lista_2`. Asegurarte que lo hiciste bien contando los elementos de la lista."
      ]
    },
    {
      "cell_type": "code",
      "metadata": {
        "colab_type": "code",
        "id": "7ow4VjxZJve8",
        "colab": {}
      },
      "source": [
        "# COMPLETAR"
      ],
      "execution_count": null,
      "outputs": []
    },
    {
      "cell_type": "markdown",
      "metadata": {
        "colab_type": "text",
        "id": "qS6wo6wUJvfA"
      },
      "source": [
        "También podemos seleccionar porciones de la lista, no solamente de a un elemento por vez."
      ]
    },
    {
      "cell_type": "code",
      "metadata": {
        "colab_type": "code",
        "id": "mVfn1mYHPBPK",
        "colab": {}
      },
      "source": [
        "print(lista_1[0:3])\n",
        "print(lista_2[4:])\n",
        "print(lista_2[1:5:2])"
      ],
      "execution_count": null,
      "outputs": []
    },
    {
      "cell_type": "markdown",
      "metadata": {
        "colab_type": "text",
        "id": "3RrvsnVRJvfF"
      },
      "source": [
        "¿Cuál es la lógica que gobierna esta sintaxis? Juega un poco con ella y fíjate si logras descubrir la regla. Sino, también puedes googlear qué es *slicing*.\n",
        "\n",
        "Algo más sobre indexado. Podemos indexar *desde el final* de la lista usando números negativos."
      ]
    },
    {
      "cell_type": "code",
      "metadata": {
        "colab_type": "code",
        "id": "zZORvWBvJvfG",
        "colab": {}
      },
      "source": [
        "print(lista_2[-1])\n",
        "print(lista_2[-2])\n",
        "print(lista_2[-8])"
      ],
      "execution_count": null,
      "outputs": []
    },
    {
      "cell_type": "markdown",
      "metadata": {
        "colab_type": "text",
        "id": "qyaVS4DtJvfJ"
      },
      "source": [
        "Veamos una cosita más. Creemos una tercera lista"
      ]
    },
    {
      "cell_type": "code",
      "metadata": {
        "colab_type": "code",
        "id": "-nQ_FGfNPBPM",
        "colab": {}
      },
      "source": [
        "# Definimos una segunda lista\n",
        "lista_3 = [0, lista_1, 'Mas texto', lista_2]\n",
        "print(lista_3)\n",
        "print(len(lista_3))"
      ],
      "execution_count": null,
      "outputs": []
    },
    {
      "cell_type": "markdown",
      "metadata": {
        "colab_type": "text",
        "id": "5YSBWt8tPBPP"
      },
      "source": [
        "Notemos que en esta tercera lista, agregamos dentro la primera y la segunda lista. Ambas listas ahora son elementos de esta tercera lista. Prestar particular atención a cuántos elementos tiene `lista_3`. ¡No importa cuántos elementos tienen `lista_1` o `lista_2`, dentro de `lista_3` solamente cuentan como uno!"
      ]
    },
    {
      "cell_type": "code",
      "metadata": {
        "colab_type": "code",
        "id": "3WYr5rJQPBPQ",
        "colab": {}
      },
      "source": [
        "print(lista_3[1])"
      ],
      "execution_count": null,
      "outputs": []
    },
    {
      "cell_type": "markdown",
      "metadata": {
        "colab_type": "text",
        "id": "RsTtGltdJvfT"
      },
      "source": [
        "**Ejercicio:** tomando `lista_1` desde `lista_3` (lo que acabamos de hacer en la celda anterior), indexar el tercer elemento de `lista_1`. Debería darte como resultado `True`."
      ]
    },
    {
      "cell_type": "code",
      "metadata": {
        "colab_type": "code",
        "id": "on1ihAbHJvfU",
        "colab": {}
      },
      "source": [
        "# COMPLETAR"
      ],
      "execution_count": null,
      "outputs": []
    },
    {
      "cell_type": "markdown",
      "metadata": {
        "colab_type": "text",
        "id": "ZbA1JYFxPBPR"
      },
      "source": [
        "**Lista Vacía y `append()`**\n",
        "\n",
        "Podemos crear listas vacias e ir agregándole elementos con el método `append()`"
      ]
    },
    {
      "cell_type": "code",
      "metadata": {
        "colab_type": "code",
        "id": "7VWvo-GwPBPT",
        "colab": {}
      },
      "source": [
        "lista_vacia = []\n",
        "len(lista_vacia)"
      ],
      "execution_count": null,
      "outputs": []
    },
    {
      "cell_type": "code",
      "metadata": {
        "colab_type": "code",
        "id": "pmlQp8PEPBPV",
        "colab": {}
      },
      "source": [
        "lista_vacia.append(42)\n",
        "lista_vacia.append('un segundo item')\n",
        "print(lista_vacia)\n",
        "print(len(lista_vacia))"
      ],
      "execution_count": null,
      "outputs": []
    },
    {
      "cell_type": "markdown",
      "metadata": {
        "colab_type": "text",
        "id": "sU-6LA63PBPX"
      },
      "source": [
        "Prueba qué pasa si corren nuevamente la celda anterior (justo arriba de ésta). Notar que el método `append()` no solamente trabaja en listas vacías.\n",
        "\n",
        "**Ejercicio**: Define una lista vacia llamada `lista_nueva` y agréguele (`append()`) los elementos `a`, `b` y `c`."
      ]
    },
    {
      "cell_type": "code",
      "metadata": {
        "colab_type": "code",
        "id": "jXs-Rkh6VF8K",
        "colab": {}
      },
      "source": [
        "a = 8\n",
        "b = 'world'\n",
        "c = [12,24.5,66]\n",
        "\n",
        "lista_nueva = # COMPLETAR\n",
        "# COMPLETAR"
      ],
      "execution_count": null,
      "outputs": []
    },
    {
      "cell_type": "markdown",
      "metadata": {
        "colab_type": "text",
        "id": "fOCxehC_Jvfm"
      },
      "source": [
        "**CUIDADO:** a veces queremos copiar una lista, operar sobre ella y comparar los resultados con la lista original. Sin embargo, hay que tener cuidado cuando queremos copiar listas"
      ]
    },
    {
      "cell_type": "code",
      "metadata": {
        "colab_type": "code",
        "id": "t9WclLNMJvfn",
        "colab": {}
      },
      "source": [
        "lista_1 = [1,2,3,4]\n",
        "lista_2 = lista_1  # lista_2 ahora es igual a lista_1\n",
        "lista_2[-1] = 100 # el ultimo elemento de la lista_2 ahora es 100\n",
        "print(lista_1, lista_2)"
      ],
      "execution_count": null,
      "outputs": []
    },
    {
      "cell_type": "markdown",
      "metadata": {
        "colab_type": "text",
        "id": "SDNdtX3uJvfr"
      },
      "source": [
        "¡Notar que se modificaron ambas listas! Esto, en general, no es lo deseado. Pero podemos hacerlo bien:"
      ]
    },
    {
      "cell_type": "code",
      "metadata": {
        "colab_type": "code",
        "id": "tGukUgixJvfs",
        "colab": {}
      },
      "source": [
        "lista_1 = [1,2,3,4]\n",
        "lista_2 = lista_1.copy() # Prestar atención aquí\n",
        "lista_2[-1] = 100\n",
        "print(lista_1, lista_2)"
      ],
      "execution_count": null,
      "outputs": []
    },
    {
      "cell_type": "markdown",
      "metadata": {
        "colab_type": "text",
        "id": "1gP68SzLJvfy"
      },
      "source": [
        "¡Ahora no! Es decir, si queremos copiar listas, debemos poner `.copy()`. Esto no solo vale para listas, sino para objetos que veremos en los próximos encuentros, como arreglos de Numpy y dataframes de Pandas."
      ]
    },
    {
      "cell_type": "markdown",
      "metadata": {
        "colab_type": "text",
        "id": "oGW0jo5hPBPZ"
      },
      "source": [
        "### 2.2 Loops\n",
        "\n",
        "En general, cuando estamos programando, queremos repetir una operación varias veces. Por ejemplo, aplicarle una operación a los elementos de una lista. Si la lista tiene muchos elementos, puede ser engorroso escribir la aplicación de esa operacíon a cada elemento uno por uno, por lo que necesitamos alguna estructura de código que facilite esa sintaxis. \n",
        "\n",
        "Los **Loops** (bucles) son estructuras de codigo fundamentales en cualquier lenguaje de programación. Consisten en bloques de código que se repiten una cierta cantidad de veces dada una condición. Existen dos formas básicas de crear loops, las instrucciones tipo `for` y las instrucciones tipo `while`. Te vamos a contar de qué se tratan los `for`, si te interesa pueden googlear cómo funcionan los `while`.\n",
        "\n",
        "El `for` es un loop en el que un bloque de código se repite tantas veces como elementos haya en una determinada lista. En cada iteración (repetición) hay una variable que va tomando el valor de uno de los elementos en esta lista. Veamos un ejemplo:"
      ]
    },
    {
      "cell_type": "code",
      "metadata": {
        "colab_type": "code",
        "id": "hZw979QmPBPa",
        "colab": {}
      },
      "source": [
        "lista_numeros = [3,55,1,876,12]\n",
        "for elemento in lista_numeros:\n",
        "    # Definimos el codigo dentro del for mediante la indentación\n",
        "    # (Todo lo que este corrido un 'tab' a la derecha)\n",
        "    print(elemento)"
      ],
      "execution_count": null,
      "outputs": []
    },
    {
      "cell_type": "markdown",
      "metadata": {
        "colab_type": "text",
        "id": "yie0RDfK3z0x"
      },
      "source": [
        "Prestar particular atención a que el código que está \"dentro\" del `for` está **indentado**. En algunos lenguajes de programación la indentación se utiliza para ordenar el código, hacerlo más legible. En Python, en cambio, es **obligatorio**. Se logra con cuatro espacios o un tab.\n",
        "\n",
        "Repitamos los mismo que la celda anterior. pero ahora agregamos una variable `i` que cuenta la cantidad de veces que recorrimos el bucle `for` ."
      ]
    },
    {
      "cell_type": "code",
      "metadata": {
        "colab_type": "code",
        "id": "kpqiAZb-PBPd",
        "colab": {}
      },
      "source": [
        "lista_numeros = [3,55,1,876,12]\n",
        "i = 0 # La iniciamos en cero\n",
        "\n",
        "for elemento in lista_numeros:    \n",
        "    i = i+1 # Le sumamos 1 cada vez que entra\n",
        "    print(elemento, i)"
      ],
      "execution_count": null,
      "outputs": []
    },
    {
      "cell_type": "markdown",
      "metadata": {
        "colab_type": "text",
        "id": "8C8nZYZT5QME"
      },
      "source": [
        "Tomarte unos minutos para entender qué hace la línea `i = i + 1`."
      ]
    },
    {
      "cell_type": "markdown",
      "metadata": {
        "colab_type": "text",
        "id": "Qbz2a3orPBPl"
      },
      "source": [
        "También podemos recorrer listas de texto. Presten atencion al siguiente codigo, e intenten precedir el resultado antes de correr la celda."
      ]
    },
    {
      "cell_type": "code",
      "metadata": {
        "colab_type": "code",
        "id": "z1jQ13uzPBPm",
        "colab": {}
      },
      "source": [
        "lista_nombres = ['Ernesto', 'Camilo', 'Violeta']\n",
        "nueva_lista = []\n",
        "\n",
        "for item in lista_nombres:\n",
        "    oracion = 'Mi nombre es ' + item\n",
        "    nueva_lista.append(oracion)\n",
        "\n",
        "# Este print esta fuera del bucle, no está indentado\n",
        "print(nueva_lista)"
      ],
      "execution_count": null,
      "outputs": []
    },
    {
      "cell_type": "markdown",
      "metadata": {
        "colab_type": "text",
        "id": "YrQ5I9FZ53sq"
      },
      "source": [
        "Terminamos las explicaciones por el momento. Sabemos que fue bastante y que probablemente estés cansado/a. Recomendamos tomarte un tiempo para descansar y, luego, intentar los siguientes ejercicios. Es MUY importante intentarlo, no importa si sientes que no terminan de resolverlos.\n",
        "\n",
        "## Ejercitación\n",
        "\n",
        "En general, no hay una única forma de resolver los ejercicios que vamos a dejar. Lo que sí ocurre, a veces, es que hay formas más *eficientes* o *prolijas*. No debes preocuparte por eso ahora, lo importante es intentar resolverlos.\n",
        "\n",
        "**Ejercicios 1 y 2:** Si tenemos una lista de números, por ejemplo los primeros diez numeros naturales, e intentamos sumarle un número fijo a la lista, por ejemplo 3, tal vez intentemos algo parecido a lo siguiente: \n",
        "\n"
      ]
    },
    {
      "cell_type": "code",
      "metadata": {
        "colab_type": "code",
        "id": "DNaZ9yIy7wXr",
        "colab": {}
      },
      "source": [
        "numeros = [0,1,2,3,4,5,6,7,8,9]\n",
        "print(numeros + 3)"
      ],
      "execution_count": null,
      "outputs": []
    },
    {
      "cell_type": "markdown",
      "metadata": {
        "colab_type": "text",
        "id": "z5l3spVJ775e"
      },
      "source": [
        "¡Nos salta un error! (Notar que la opción de Googlear el error en Stack Overflow esta vez es más informativa.). Entonces, te proponemos que resuelvas los siguientes ejercicios:\n",
        "\n",
        "\n",
        "1. Crear una rutina que le sume tres a los diez primeros números naturales y vaya imprimiendo en pantalla a medida que lo hace.\n",
        "2. Crear una rutina que le sume tres a los diez primeros números naturales y guarde los resultados en una nueva lista. Al final, imprimir esa lista en pantalla.\n",
        "\n",
        "Si necesitas unas pistas, puedes clickear [aquí](https://colab.research.google.com/drive/1gfqynizt4gSsitlZELigCL1jIdlYkpmS), ¡pero te recomendamos que antes lo intentes!"
      ]
    },
    {
      "cell_type": "code",
      "metadata": {
        "colab_type": "code",
        "id": "Cf4kcg6fCcL8",
        "colab": {}
      },
      "source": [
        "# COMPLETAR"
      ],
      "execution_count": null,
      "outputs": []
    },
    {
      "cell_type": "code",
      "metadata": {
        "colab_type": "code",
        "id": "SLQUER3i9LFq",
        "colab": {}
      },
      "source": [
        "# COMPLETAR"
      ],
      "execution_count": null,
      "outputs": []
    },
    {
      "cell_type": "markdown",
      "metadata": {
        "colab_type": "text",
        "id": "rqAE7lt-DPuV"
      },
      "source": [
        "**Para investigar y pensar**: ¿qué ocurriría si, en lugar de querer sumarle un número a los diez primeros números naturales, quisiéramos hacerlo sobre los primeros cien?¿Y si fuera el primer millón de números naturales?¿La rutina que creaste es fácilmente adaptable? Investiga cómo podrías adaptarla. Pista: `range()`"
      ]
    },
    {
      "cell_type": "markdown",
      "metadata": {
        "colab_type": "text",
        "id": "565EnFNTVU3V"
      },
      "source": [
        "**Ejercicio 3**: Genere una lista llamada `numerotes` que contenga el cuadrado de cada elemento en la lista `numeritos`."
      ]
    },
    {
      "cell_type": "code",
      "metadata": {
        "colab_type": "code",
        "id": "YB0EcpVqV3hY",
        "colab": {}
      },
      "source": [
        "numeritos = [3,1,5,7,12,10,17,4,22]\n",
        "# COMPLETAR"
      ],
      "execution_count": null,
      "outputs": []
    },
    {
      "cell_type": "markdown",
      "metadata": {
        "colab_type": "text",
        "id": "pn21djUX2ms6"
      },
      "source": [
        "**Ejercicio 4:** estudiar qué ocurre si sumas,`+`, dos listas. ¿Cómo se llama esa operación?"
      ]
    },
    {
      "cell_type": "code",
      "metadata": {
        "colab_type": "code",
        "id": "VznWurp02l5K",
        "colab": {}
      },
      "source": [
        "lista_1 = [1,5,-8,3]\n",
        "lista_2 = [True, 'Cocodrilo que se duerme es cartera', 9, -17, 98, False]\n",
        "# COMPLETAR"
      ],
      "execution_count": null,
      "outputs": []
    },
    {
      "cell_type": "markdown",
      "metadata": {
        "colab_type": "text",
        "id": "mwZKZSXBEA9A"
      },
      "source": [
        "La operación se llama concatenación. En este caso, de listas."
      ]
    },
    {
      "cell_type": "markdown",
      "metadata": {
        "colab_type": "text",
        "id": "IR4u7CJok7is"
      },
      "source": [
        "**Ejercicio 5:** sumar todos los elementos de la siguiente lista. **Pistas:**\n",
        "* En un ejemplo anterior definimos una variable `i`, inicializada en cero, que fuimos modificando en cada paso de un `for`. Considerar la opción de definir una variable `suma` y utilizarla de forma parecida."
      ]
    },
    {
      "cell_type": "code",
      "metadata": {
        "colab_type": "code",
        "id": "OKSDg3W4k7K-",
        "colab": {}
      },
      "source": [
        "numeros = [4,8,3,1,-3,3,-5,1,2,-8]\n",
        "# COMPLETAR"
      ],
      "execution_count": null,
      "outputs": []
    },
    {
      "cell_type": "code",
      "metadata": {
        "colab_type": "code",
        "id": "fjpBun1wlsCn",
        "colab": {}
      },
      "source": [
        ""
      ],
      "execution_count": null,
      "outputs": []
    }
  ]
}