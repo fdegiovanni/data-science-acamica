{
 "cells": [
  {
   "cell_type": "markdown",
   "metadata": {
    "id": "GEFRqVgwU4TH"
   },
   "source": [
    "# Probabilidad y Estadística\n",
    "\n",
    "El objetivo del siguiente notebook es afianzar algunos conceptos de Probabilidad y, de paso, empezar a ver cómo se hacen gráficos con Matplotlib, una nueva librería que veremos más en detalle en la próxima bitácora y encuentro. Por ahora, solamente tienen que instalarla y correr las celdas. ¡No te preocupes si no entiendes lo que hacen esas celdas! Lo importante es que prestes atención a sus resultados.\n",
    "\n",
    "## 1. Distribuciones de probabilidad\n",
    "\n",
    "El concepto de distribución de probabilidad es un concepto central en probabilidad y estadística y, por lo tanto, hay mucho para decir. Nos limitamos acá a los puntos más importantes.\n",
    "\n",
    "\n",
    "### 1.1 Distrubución Uniforme Discreta\n",
    "\n",
    "Comencemos por un ejemplo: un dado de seis caras. La probabilidad de que al tirar el dado *salga* una cara es $1/6$. Si graficamos la probabilidad para cada resultado posible de tirar un dado, obtendríamos un gráfico como el siguiente:"
   ]
  },
  {
   "cell_type": "code",
   "execution_count": 1,
   "metadata": {
    "id": "J-fHqWnzU4TR"
   },
   "outputs": [],
   "source": [
    "import numpy as np\n",
    "import matplotlib.pyplot as plt"
   ]
  },
  {
   "cell_type": "code",
   "execution_count": 3,
   "metadata": {
    "id": "VSbq4R-aU4Tt"
   },
   "outputs": [
    {
     "data": {
      "image/png": "[encoded data removed]",
      "text/plain": [
       "<Figure size 432x288 with 1 Axes>"
      ]
     },
     "metadata": {
      "needs_background": "light"
     },
     "output_type": "display_data"
    }
   ],
   "source": [
    "valores = np.arange(1,7)\n",
    "probas = np.zeros(6) + 1/6\n",
    "plt.bar(valores, probas)\n",
    "plt.title('Distribución de probabilidad uniforme: lanzamiento de un dado')\n",
    "#plt.savefig('distribucion_dado.png', dpi = 400)\n",
    "plt.show()"
   ]
  },
  {
   "cell_type": "markdown",
   "metadata": {
    "id": "Hl-vXlaCU4T_"
   },
   "source": [
    "En este caso, decimos que la distribución de probabilidad es *uniforme discreta*, ya que le asigna la misma probabilidad a los seis valores que pueden salir al tirar el dado. Si el dado estuviera cargado, ya no sería uniforme.\n",
    "\n",
    "**Algunos detalles**:\n",
    "1. El resultado de tirar un dado es un ejemplo de una *variable aleatoria*.\n",
    "2. En el caso del dado, la variable aleatoria puede tomar valores *discretos* y *acotados* (limitados): 1, 2, 3, 4, 5 y 6\n",
    "3. Existen variables aleatorias donde los posibles valores que puede tomar son continuos y no acotados. Veremos la distribución más famosa de ellas a continuación."
   ]
  },
  {
   "cell_type": "markdown",
   "metadata": {
    "id": "mIXL9A1yU4UE"
   },
   "source": [
    "### 1.2 Distribución Normal o Gaussiana\n",
    "\n",
    "La distribución normal o gaussiana debe ser la distribución más famosa dentro de las distribuciones. Es una distribución de variable continua y aparece en una infinidad de ámbitos de la ciencia. Muchas variables asociadas a fenómenos naturales siguen una distribución gaussiana; un ejemplo típico es la estatura de las personas. La forma que tiene esta distribución está dada por la siguiente fórmula:\n",
    "\n",
    "$$f(x|\\mu, \\sigma^2)=\\frac{1}{\\sqrt{2 \\pi \\sigma^2}}e^{\\frac{-(x - \\mu)^2}{2\\sigma^2}}$$\n",
    "\n",
    "¡No te asustes si no la entiendes! Durante el encuentro, veremos más en detalle algunos aspectos de esta distribución. Pero es importante resaltar que tiene sólo dos parámetros: su valor medio $\\mu$ y su desviacíon estándar $\\sigma$. Estos valores son *teóricos*, es decir, son propios de la distribución de probabilidad. \n",
    "\n",
    "Recomendamos entrar en la página de Wikipedia de la [Distribución Normal](https://es.wikipedia.org/wiki/Distribuci%C3%B3n_normal) y prestar atención al primer gráfico - dónde podrán ver la forma teórica de la distribución - y a la sección \"Propiedades\".\n",
    "\n",
    "\n",
    "**Distribución Normal en NumPy**\n",
    "\n",
    "Como mencionamos en el encuentro anterior, NumPy nos provee de herramientas para generar valores aleatorios de distribuciones. A continuación generamos, usando `np.random.normal()`, muestras de dos distribuciones normales, con el mismo valor medio pero distinta desviación estándar. **Consultar** la ayuda de la función para entender bien qué hace."
   ]
  },
  {
   "cell_type": "code",
   "execution_count": 10,
   "metadata": {
    "id": "mnQ6ZwhAU4UJ",
    "scrolled": true
   },
   "outputs": [
    {
     "name": "stdout",
     "output_type": "stream",
     "text": [
      "[ 4.15385567e+00  1.25054204e+00 -3.03018429e+00 -2.10774913e+00\n",
      " -5.74127161e+00  4.65987320e+00  8.30284423e+00  1.49803248e+00\n",
      " -1.74407507e-03 -5.36161464e+00  6.56600962e+00  1.30565217e+01\n",
      " -6.98727902e+00 -3.31716469e+00 -1.39796521e+00 -8.21589548e-01\n",
      "  3.13672975e+00  1.00712477e+01  7.04298643e+00  4.63798691e+00\n",
      " -1.61964352e+00 -3.59814117e+00 -1.98387653e+00  9.74033401e+00\n",
      "  1.69128349e+00 -2.34181268e-01  1.08122135e+00  6.12309110e+00\n",
      " -4.56424837e+00  9.07437068e+00  2.78238128e+00  9.18280109e-01\n",
      "  4.21423057e+00  3.09198537e+00  2.79017718e-01  7.36446640e-01\n",
      " -2.34431273e+00  5.28195375e+00 -6.59969047e-01 -2.78129211e+00\n",
      "  2.82931761e+00  8.64570641e+00  1.75827688e+00 -1.04050628e+00\n",
      "  4.01948010e+00  1.16835623e+01 -5.25952765e+00  3.91101394e+00\n",
      "  3.02543313e+00  7.80766902e+00  6.95454587e+00  1.06645444e+00\n",
      " -6.42258628e+00  6.03281884e+00 -2.17596345e+00 -2.73370205e+00\n",
      "  7.74175290e+00 -2.55425189e+00  9.01422370e+00  3.67922361e+00\n",
      "  3.59559200e+00  3.53632390e+00 -6.19211813e+00 -6.88194308e+00\n",
      "  3.07776527e+00  4.84003680e+00  2.41305516e+00 -2.10767259e+00\n",
      "  2.09461052e+00  1.58982923e+00 -2.78579049e+00  7.06986077e+00\n",
      " -6.65138031e+00  4.94371203e+00  3.92161703e+00  7.04855927e+00\n",
      " -3.02655936e+00  2.50703573e+00  1.28558247e+01  5.31037144e+00\n",
      "  2.50290604e+00  4.69580637e+00  2.43088421e+00  1.29544901e+01\n",
      "  6.91818098e+00  1.57192523e+00  3.26165716e+00  4.60100196e-02\n",
      "  8.04925063e+00 -5.03052386e+00 -6.02369265e+00  9.29357375e+00\n",
      "  1.27655990e+01  4.34152454e+00  2.56368971e+00  5.28633845e+00\n",
      " -1.23526763e+00  2.85621773e+00  2.19454353e+00  5.13282125e+00\n",
      " -5.78999264e+00 -5.35173849e-01  6.22497802e+00 -1.37796914e+00\n",
      " -2.96680688e+00  1.22103607e+01  2.19059000e+00 -8.94590700e-01\n",
      " -6.46185219e+00  5.64673173e+00  5.49568077e+00  5.06201997e-01\n",
      " -3.51115095e+00  1.87725288e+00 -2.17928034e+00 -2.71046794e+00\n",
      "  1.48393624e+00 -3.25695199e+00  3.23324478e+00  5.03996255e+00\n",
      " -2.19816224e+00 -4.84122548e+00  9.80639799e+00 -2.70135118e+00\n",
      " -1.29971353e+00  3.06508584e+00  4.99684686e+00  7.18415532e-01\n",
      "  4.30397164e+00 -4.93078948e-03 -2.85585332e+00  9.13158430e+00\n",
      "  1.44422081e+01  1.04798477e+01  2.70903320e+00  1.11671768e+01\n",
      "  3.77851758e+00 -3.86431352e-01  4.33189787e+00  1.52803747e+00\n",
      " -2.91559092e+00 -2.49160986e+00  6.01025869e+00 -7.23265991e+00\n",
      "  5.02068370e+00 -6.14791801e+00 -8.60588222e+00 -7.19423302e+00\n",
      "  1.18338199e+01  1.01883018e+00  2.43291590e+00  9.09627523e+00\n",
      "  6.67089874e+00 -4.95752635e+00  6.34503171e+00  2.92090632e+00\n",
      "  2.91609512e-01  2.12145457e+00  8.39906010e+00 -2.42983241e+00\n",
      "  4.00442840e+00  1.95171382e+00 -6.98582308e+00 -2.01126586e+00\n",
      "  2.96606777e+00  8.48671045e+00  7.00665509e+00  4.98606252e+00\n",
      " -2.07637831e+00  1.10060700e+01  3.07620234e+00 -3.03182761e+00\n",
      "  1.08547510e+00  6.48124213e+00  2.03808749e+00  6.43432343e+00\n",
      "  7.51846979e+00  4.00265342e+00 -2.28851312e+00  2.67727332e+00\n",
      "  2.22582928e+00  1.12967317e+01 -6.13160969e+00  1.32588774e+00\n",
      " -9.20467734e-01  3.67552810e+00 -1.01878218e+01  7.57462280e+00\n",
      "  2.06874244e+00 -7.22350582e+00  1.94434326e-01  5.04481171e+00\n",
      " -5.95723938e+00  2.01611108e+00 -3.28736824e+00 -7.79925159e-01\n",
      "  2.13369191e+00  2.91725127e+00 -3.53712491e-01  3.36398195e+00\n",
      "  6.08988804e+00  6.05428624e-01  9.15783879e+00  9.31107085e+00\n",
      " -1.43510328e-01 -1.18920278e+00 -6.32086493e+00  1.36715334e+00\n",
      "  1.82811099e-01  5.89525610e+00 -5.54830803e+00  6.13043041e-01\n",
      "  6.84372197e+00 -1.65178548e+00 -1.81180768e+00 -5.23470167e+00\n",
      "  1.51028692e+01 -1.73736589e+00 -4.50173416e+00 -2.01925202e+00\n",
      " -1.87147540e+00  6.53051108e-01  6.12686116e+00  5.08384155e-01\n",
      " -2.61411657e+00 -5.25669249e+00  2.10928679e+00  2.21269537e+00\n",
      "  9.65466176e+00  2.46223868e+00  1.50495844e+00 -3.25326918e+00\n",
      "  4.70237125e-01 -1.92372290e-01  1.49179177e-01 -2.79627696e+00\n",
      "  4.69164802e+00  1.28777291e+00  9.98232600e-01 -6.57023058e+00\n",
      "  4.46822044e+00  4.43507663e+00 -2.19564701e+00  6.95060692e+00\n",
      " -4.82379115e+00  1.89065046e+00  6.43963301e-01 -4.58587394e+00\n",
      "  2.94851306e+00  1.05128508e+01  2.33817115e+00 -3.15108771e-01\n",
      "  4.23512078e+00  2.52859998e+00  2.13881066e+00 -1.27711064e-01\n",
      "  9.10987780e+00  4.28181682e+00 -6.43353295e-01  1.45998082e+00\n",
      " -1.70433352e+00 -1.04145575e+00 -1.20362862e+00 -3.67155797e+00\n",
      "  5.88638482e+00  5.44792684e-01  4.77063789e+00 -1.35062949e+00\n",
      "  1.69818753e+00 -1.55520298e+00  5.59834085e+00  7.57903466e-01\n",
      " -1.65436793e+00 -6.20851614e+00  3.37833275e+00 -1.54192526e+00\n",
      "  1.92110391e+00 -4.58650540e-01  6.77094790e+00  4.72072376e+00\n",
      "  4.23606044e+00 -1.08060562e+00  4.33145022e+00  1.05741580e+01\n",
      " -2.16093017e+00  2.86169570e+00 -6.24608487e+00  8.99281046e+00\n",
      "  1.04395070e-02  5.91289440e+00 -6.61614125e+00  1.09876969e+01\n",
      "  2.15642360e-01  4.72828662e+00  2.75409103e+00  7.22646069e-01\n",
      "  1.04289615e+01 -6.24023103e+00  3.49356830e+00  6.55322836e+00\n",
      "  1.85071939e+00  1.40914608e+00  1.28656144e+00 -4.13818210e+00\n",
      "  2.19063692e+00  4.56358762e+00  2.34299614e+00  6.38619494e-01\n",
      " -4.48625112e-01  6.03516654e-01  8.28872109e+00 -8.43317490e+00\n",
      "  2.20035728e+00  3.61225414e-01  9.27903976e+00  2.27746113e+00\n",
      "  9.42462799e+00 -8.61945009e+00  4.29792452e+00  3.40028930e+00\n",
      "  8.95266984e+00 -6.20674304e+00  1.22482096e+00  2.33030131e+00\n",
      " -4.78977473e-01  8.08288857e+00  3.06589073e-01  1.21738127e+01\n",
      "  7.27088954e+00  6.75416849e+00  4.79649491e+00 -3.31847796e+00\n",
      " -1.55481688e-01  4.86375683e+00  5.38778517e+00  8.53591923e+00\n",
      " -3.37205048e-01 -2.30076692e+00  6.29552096e+00 -2.04813288e+00\n",
      "  6.36655918e+00  7.99868088e+00  4.28076518e+00  2.12104840e-01\n",
      "  2.20541113e+00  4.96732960e+00  2.05092759e+00  1.29914817e+01\n",
      " -2.95335465e+00 -3.01334294e+00 -2.88447693e+00 -9.47899613e-01\n",
      " -8.89465760e+00 -1.14825213e+00 -1.26642351e+00  2.39257013e+00\n",
      "  4.08900292e+00 -4.20108168e+00  6.50027121e+00  1.10112111e+01\n",
      "  9.58574485e-01  9.87185619e+00  2.99494747e+00  1.19436596e+01\n",
      "  7.58641733e+00 -5.81952317e+00  2.09313685e+00  7.27162487e+00\n",
      "  2.15273291e+00  1.81558235e+00  8.34882375e+00 -1.54927091e+00\n",
      "  2.08757807e+00  3.61812882e+00  3.31045198e-01  1.89935448e+00\n",
      "  5.87511632e+00  4.16418811e+00 -2.04358766e+00 -3.52061993e+00\n",
      " -1.94551090e+00  2.00624228e+00  1.20030106e+00 -2.15978747e+00\n",
      " -9.90752263e-01 -5.60019643e+00  4.08926852e+00  1.79990637e+00\n",
      " -4.29893672e+00  2.14310252e+00  8.71311005e+00 -1.69967926e+00\n",
      "  8.57568833e+00  3.82712638e-01  2.98914084e+00  2.48875401e+00\n",
      "  9.00761708e+00  2.79216923e+00 -3.70950710e+00 -4.55485185e+00] [-1.06584211 -1.42394033  2.09227012  0.08325104  1.83837677  0.59228193\n",
      "  0.4584314   1.03830932  3.40717111  3.8582903   2.74234511  0.0203549\n",
      "  3.28726255  3.37779333  2.54929441  0.79275913  3.41771915  2.84563715\n",
      " -4.23371318  3.28890407 -1.82748534  3.32712315  1.6918552   4.38722336\n",
      "  1.80367758  0.22677148  1.70529267  4.11961259  2.05249324  1.77132968\n",
      "  3.48710703  2.42071873  1.98814519  4.73212014  5.11022806  3.22665245\n",
      "  1.4280817   4.99382199  4.36623911  3.43779433 -0.43215316  2.28134381\n",
      "  0.51265565  1.6819755   2.48011386  2.20031882  1.04964979  4.5459075\n",
      " -1.39226253  3.46036706 -1.71496654  2.76519627  0.22619135  3.75660752\n",
      "  2.17290505  2.49541276 -0.03655865  0.69085973  2.41443479  3.16713985\n",
      "  7.85819248  2.44571665  3.95207505 -1.11386787 -0.65978372  1.28901045\n",
      " -0.39485539  4.97279851  1.17956261  4.76436378  4.97356495  2.08555944\n",
      "  3.00359951  1.88780105  3.076874    2.9666837   1.75270075  3.00993996\n",
      "  5.44739255  3.42603246  2.65159923  2.24953904 -0.02534625 -0.05459375\n",
      "  2.64671306 -0.73878225  0.4673448   4.56302268  5.82845939 -1.33191215\n",
      "  5.25329912  1.57712342  1.96998983  1.77317674  4.16108825 -1.21535316\n",
      "  2.91232722  0.11025961  3.14157706  5.08559268  1.99916535  2.74831017\n",
      "  2.81910356  0.400813    5.0232787   5.41293649  3.40356674  2.14657086\n",
      "  1.07621237  0.74701955  5.42167317  4.82883009  1.87267702 -1.15986106\n",
      " -3.66402374 -0.16685332  1.73875921  4.80137807  0.69668758  3.00963091\n",
      "  4.60636192  2.25707263  1.71510426 -0.61752703 -0.40495062  2.83219927\n",
      "  1.59818493  2.24506264  1.90544457  3.3282881   0.43062518  1.32883871\n",
      "  5.79236446  0.40042772  1.43684914  0.8212266   2.88956272  4.04478464\n",
      "  1.00357676  1.13717132  1.44203679  3.05966757  0.52120939  1.24808007\n",
      " -2.74438774 -0.76349002  1.77511249  3.79572835  2.59015157 -0.19753691\n",
      " -0.80051242  2.34936019 -1.30560728  4.13185364  2.12779238 -1.21464032\n",
      "  0.06809228  0.55137736  0.45361498 -0.97986602  0.25067496  0.63119689\n",
      "  0.57742849  4.25591325  2.20965561  0.01348557  1.33075679  0.24088581\n",
      "  1.39998668  3.75101831  2.50454156  6.57120236  2.75185485  0.17281098\n",
      "  3.61948146  4.15986243  4.18833398 -0.18848191  1.70472517  4.26362391\n",
      " -1.36945792  1.00116648 -0.85387537  0.13485954 -0.02491431  4.50113967\n",
      "  1.53092393  0.27328884 -0.07121146  2.28333433  1.97772875  4.68814875\n",
      "  3.00003339 -0.86359556  0.74203858  4.14014502  0.7578346   5.46914435\n",
      " -0.19657886  3.14522671  0.27756889  0.98080973  4.1971633   1.74586567\n",
      "  3.62690449  2.94658119  3.50773137  0.22362358  1.5568512   2.84850524\n",
      "  0.30185425  5.25900009  0.44554392  1.39999285 -0.01311813 -2.28661613\n",
      "  5.59383705  1.59132213  1.10417032  1.60256988  4.83972794  0.06978678\n",
      "  3.35913573  1.1524235   0.80665829  3.13411643  3.97648115  0.9721941\n",
      "  0.46230168 -0.33819149  4.20700753  0.84948801 -1.69826145  4.81990428\n",
      " -0.739719    3.55892106  2.36685729  2.57583086  0.83124945  2.73118292\n",
      " -1.33555979  3.1760755   5.11402008  3.76805439 -2.03908017  0.031582\n",
      "  1.62441016  2.97387461  1.78669465  1.01357123  3.19060062  4.32830353\n",
      "  1.53541199  3.45785973 -3.15810149  0.12498123  1.35748213  1.02286756\n",
      "  2.66559643  4.02750109  3.01333805  0.75554906 -1.04553618  3.11392824\n",
      " -1.67635348  3.30607457  1.62310184 -0.35166998  2.57451462  1.99424779\n",
      "  1.92680541  1.83155341  2.83904822  3.84886804  2.9932304   4.02426638\n",
      "  1.91172056  5.23691865  3.14221964  0.91261194 -0.18779011  2.41159361\n",
      " -0.61304305  0.05324806  2.47817416  0.78422511  0.13336752  1.93104991\n",
      "  2.1453558   1.58833195  1.24490616  3.70928546  2.6848547   1.55314778\n",
      "  6.92864387  2.38766347  4.26401027  0.87803799 -0.72588189  0.41648697\n",
      "  1.46398043  1.00678358  4.67277236  1.75991776  2.92293775  1.90703769\n",
      "  1.13289133  2.07599203  5.42810294  0.46410282  3.5339809  -0.0520145\n",
      "  1.08074712  2.00716641  2.65275018  4.96625726  1.89983472  0.31276879\n",
      "  3.30008395  1.27166038  2.47736314  1.76755512 -1.8869137   3.01659837\n",
      "  3.16673601  3.85320954  5.60092552 -0.39020755  3.03301489  2.81858999\n",
      "  1.16183601  2.79421247  2.99929391 -0.43736766  2.49244552  0.16403139\n",
      "  0.696287   -1.54948963  1.05327815  1.59285866  3.09971373  2.00179985\n",
      " -1.0845763   3.72429611  1.76282675  2.97674118  3.93187224  4.8452095\n",
      "  5.92245398  1.85552248  2.62224889 -0.15672218  4.12320034 -0.36977489\n",
      " -1.61050338  3.66077201  0.95660695  3.55521456  2.8161493  -1.2600053\n",
      " -3.43935873 -0.19320349  2.03298297 -0.44355267  0.6944771  -0.91788146\n",
      "  2.33975592  2.18165185  1.03721475  4.7941306   4.99543005  3.13053441\n",
      " -1.59954236 -0.20938029  2.81426066  0.74288484  1.02581714  3.79793479\n",
      "  3.02174964  4.62830887  1.14158141  4.75045084  0.89173751  4.99898298\n",
      "  2.21166929  0.27898051 -1.26243902  1.39705537  1.4875346   3.71532382\n",
      "  1.77881899  1.13513604  4.15407495  1.55034688  0.84751637  3.14921783\n",
      "  1.02034356  3.31760428  0.80616578  1.55408163]\n"
     ]
    }
   ],
   "source": [
    "mu = 2.0\n",
    "sigma_1 = 5.0\n",
    "sigma_2 = 2.0\n",
    "muestras_1 = np.random.normal(loc = mu, scale = sigma_1, size = 400)\n",
    "muestras_2 = np.random.normal(loc = mu, scale = sigma_2, size = 400)\n",
    "print(muestras_1, muestras_2)"
   ]
  },
  {
   "cell_type": "markdown",
   "metadata": {
    "id": "OHFxZhG0U4Ub"
   },
   "source": [
    "Notar que son dos \"tiras\" de números, bastante largas y que a simple vista no nos dicen mucho. Mejor, podemos graficar su histograma. Veremos bien qué es un histograma en la próxima bitácora. Por ahora, basta saber que es una forma de visualizar cómo está distribuida una tira de números. Lo que hace es tomar un número determinado de intervalos (`bins = 20`) y contar cuántas muestras caen en cada intervalo."
   ]
  },
  {
   "cell_type": "code",
   "execution_count": 11,
   "metadata": {
    "id": "4nu_9GbwU4Uf"
   },
   "outputs": [
    {
     "data": {
      "image/png": "[encoded data removed]",
      "text/plain": [
       "<Figure size 432x288 with 1 Axes>"
      ]
     },
     "metadata": {
      "needs_background": "light"
     },
     "output_type": "display_data"
    }
   ],
   "source": [
    "plt.hist(muestras_1, bins = 20, alpha = 0.5, label = 'Histrograma Muestra 1')\n",
    "plt.hist(muestras_2, bins = 20, alpha = 0.5, label = 'Histrograma Muestra 2')\n",
    "plt.legend()\n",
    "plt.grid()\n",
    "plt.show()"
   ]
  },
  {
   "cell_type": "markdown",
   "metadata": {},
   "source": [
    "**Ejercicio:** Volver a \"generar\" las muestas y hacer sus histogramas. ¿Cambió?¿Por qué? Googlear que es una *semilla* (`seed`) en NumPy e implementar. También, cambiar la cantidad de muestras, modificando el argumento `size`. "
   ]
  },
  {
   "cell_type": "code",
   "execution_count": 12,
   "metadata": {},
   "outputs": [
    {
     "name": "stdout",
     "output_type": "stream",
     "text": [
      "[ 1.08202617e+01  4.00078604e+00  6.89368992e+00  1.32044660e+01\n",
      "  1.13377900e+01 -2.88638940e+00  6.75044209e+00  1.24321396e+00\n",
      "  1.48390574e+00  4.05299251e+00  2.72021786e+00  9.27136753e+00\n",
      "  5.80518863e+00  2.60837508e+00  4.21931616e+00  3.66837164e+00\n",
      "  9.47039537e+00  9.74208681e-01  3.56533851e+00 -2.27047870e+00\n",
      " -1.07649491e+01  5.26809298e+00  6.32218099e+00 -1.71082510e+00\n",
      "  1.33487731e+01 -5.27182837e+00  2.22879259e+00  1.06408075e+00\n",
      "  9.66389607e+00  9.34679385e+00  2.77473713e+00  3.89081260e+00\n",
      " -2.43892874e+00 -7.90398234e+00  2.60439253e-01  2.78174485e+00\n",
      "  8.15145340e+00  8.01189924e+00  6.33659130e-02  4.88486247e-01\n",
      " -3.24276483e+00 -5.10008969e+00 -6.53135095e+00  1.17538770e+01\n",
      " -5.48260909e-01 -1.90371508e-01 -4.26397680e+00  5.88745178e+00\n",
      " -6.06948924e+00  9.36298599e-01 -2.47733281e+00  3.93451249e+00\n",
      " -5.54025688e-01 -3.90316092e+00  1.85908886e+00  4.14165935e+00\n",
      "  2.33258611e+00  3.51235949e+00 -1.17161047e+00  1.86294170e-01\n",
      " -1.36230224e+00  2.02234192e-01 -2.06573141e+00 -6.63141301e+00\n",
      "  2.88713071e+00 -8.90468104e-03 -6.15099173e+00  4.31391128e+00\n",
      " -2.53649182e+00  2.25972698e+00  5.64545281e+00  2.64491455e+00\n",
      "  7.69700342e+00 -4.17412910e+00  4.01170821e+00 -1.42405045e+00\n",
      " -2.35398575e+00 -8.94248324e-01  4.42237339e-01  2.28082671e+00\n",
      " -3.82574920e+00  6.50413243e+00  4.32831220e+00 -5.68121843e+00\n",
      "  9.44126097e+00  1.14794459e+01  7.89389786e+00  1.10037582e+00\n",
      " -3.35376311e+00  7.27225863e+00 -1.58847349e-02  8.11222535e+00\n",
      "  3.04137489e+00  6.88319518e+00  3.78183199e+00  5.53286584e+00\n",
      "  2.05250010e+00  1.09293525e+01  2.63456046e+00  4.00994682e+00\n",
      "  1.14157535e+01 -4.73879531e+00 -4.35242499e+00  6.84698354e+00\n",
      " -3.86561703e+00  1.17181059e+01 -6.80949038e-02 -1.73727406e+00\n",
      "  1.16147101e+01  9.40257396e+00  1.13377948e+01  6.53022329e+00\n",
      " -2.30612843e+00  1.15503248e+01  6.59983145e-01  6.01228198e+00\n",
      "  6.73625984e+00  1.22494953e+00  5.07039685e+00  6.61103336e+00\n",
      "  3.88212766e+00 -3.49700395e+00  3.49119087e+00  8.63192948e+00\n",
      " -1.47283930e+00  1.25182730e+00 -1.75767759e-01  1.12463186e+01\n",
      "  5.36147379e+00  4.03730918e+00 -1.84958037e+00  4.69624596e+00\n",
      " -1.37166330e+00  2.15915279e+00 -1.17923039e+00  5.38216647e+00\n",
      "  4.88295408e+00  9.58506222e-01  3.98003356e+00 -3.46530754e+00\n",
      " -5.45628796e+00  4.19695851e+00  2.83336748e+00  5.17515718e+00\n",
      "  1.39157239e+01  6.72239743e+00 -2.56411113e+00  7.58508144e+00\n",
      " -4.57953705e+00 -3.07923024e-01  1.65879197e+00  1.05667136e+01\n",
      " -1.72377411e+00 -2.13219269e+00  1.50773738e+00 -1.31739143e+00\n",
      "  7.63317961e+00 -3.39965754e+00 -3.73734326e+00 -1.89100224e-01\n",
      " -4.90162253e-01  1.16476603e+01  6.74710403e+00  2.43775621e+00\n",
      " -4.12717759e+00  6.22181488e+00 -3.00107674e+00 -5.72385548e+00\n",
      "  7.94014896e+00  3.58471306e+00  6.60429412e+00  3.59363826e+00\n",
      "  6.28415306e+00 -1.25512797e+00 -3.17121421e+00  5.40797259e+00\n",
      " -2.01704832e+00 -1.44774889e+00 -2.77662518e-01  2.08739580e+00\n",
      "  2.30030444e-01 -4.87475647e+00 -1.21809201e+00 -9.11701576e+00\n",
      "  5.12615726e+00 -6.01028828e+00 -3.52191670e+00  2.26082540e+00\n",
      " -1.69781498e+00  9.71507298e+00 -4.46428455e+00  3.33525435e+00\n",
      "  1.80358591e+00 -3.84046749e+00  4.61638330e+00  1.14226834e+00\n",
      "  5.85895276e+00  6.11752077e+00  1.28161797e+01  8.68263975e+00\n",
      "  1.54090810e-01  8.03104112e-01  7.49829798e+00  5.27631865e+00\n",
      "  5.20065763e+00 -6.08478022e+00  1.87836938e+00 -1.69015455e+00\n",
      "  3.39962300e+00  1.50924805e+00  6.55089454e+00  3.58609108e+00\n",
      "  5.93163981e+00 -3.32095484e-01 -2.72223128e+00 -5.02484660e-02\n",
      "  1.91489793e+00  3.89575868e+00  1.32965448e+01  1.78871424e+00\n",
      " -2.77972500e+00  2.70091122e-01 -3.17979873e-01  4.40740737e+00\n",
      " -5.70398507e+00  2.31630997e+00  2.78253269e+00  3.16090518e+00\n",
      " -9.86580345e-01  8.10391351e-01 -5.12030454e+00 -4.66599417e-01\n",
      " -7.14307380e-01  4.08025023e+00 -3.78091216e+00  5.90599051e+00\n",
      "  9.47242272e+00 -8.34992513e+00  4.13129365e+00  5.38454018e+00\n",
      " -1.18718513e+00  1.36409284e-02  1.33559711e+00  5.11045603e-01\n",
      "  4.54935155e-01 -6.38001903e+00  7.76165782e+00  7.39809296e+00\n",
      " -2.06682130e+00 -5.33212164e+00  4.60532438e+00 -8.78939849e-01\n",
      "  2.70976582e+00  4.03357914e-01  5.45769376e+00  5.47374572e+00\n",
      " -1.62798689e+00 -4.91681978e+00 -5.91469199e+00  5.05189690e+00\n",
      " -3.94429629e+00 -5.34081771e-01 -9.81570192e-01  1.73716352e+00\n",
      " -7.68139903e+00  2.94389298e+00  4.61945512e+00  2.44211044e+00\n",
      "  4.45569142e-01  2.48700083e+00  3.99523173e+00 -1.18629638e+01\n",
      "  1.17795615e+01  3.95046661e+00 -1.26204291e+00  4.52331241e-02\n",
      "  4.46870889e+00  1.41948030e+00 -8.15342234e+00  1.23224643e+01\n",
      "  1.44729671e+00  7.10086356e+00 -1.46024924e+00  9.68188527e+00\n",
      "  3.43171844e+00  5.04421917e+00 -3.22626683e+00  8.05572645e+00\n",
      "  5.44909082e+00  8.50923115e+00 -1.14043780e+00 -4.05135592e-01\n",
      "  1.35195835e+01 -3.30007911e+00  1.32025150e+00  7.68445681e+00\n",
      "  2.48862484e+00  4.91476840e+00  2.75485369e-03  3.85027944e+00\n",
      " -4.53263426e+00  1.02906534e+01  1.40917977e+00 -1.40089102e+00\n",
      "  5.33191541e+00 -3.03598937e-01 -4.67129236e+00 -4.73358753e+00\n",
      "  5.46886576e+00  1.20213281e+00  1.33149220e+00  7.38871903e+00\n",
      " -3.63412904e+00 -1.65338876e+00  7.56009541e-02  2.47175795e+00\n",
      "  1.78914274e+00  5.65564038e-01  1.69186799e+00  1.46347362e+00\n",
      " -1.59802194e+00 -2.06496494e+00  3.37258179e+00 -2.45457541e+00\n",
      " -3.78677630e+00  4.38538744e-01  1.21166492e+00  1.32836175e+01\n",
      " -1.52350138e+00  6.71630362e+00  5.73594167e+00 -3.94472478e+00\n",
      "  5.86626489e+00 -3.91940320e+00 -1.12958612e+01  5.03159762e+00\n",
      " -6.77945292e+00  4.25467231e+00 -1.42005449e+00  1.02977540e+01\n",
      "  7.34254700e+00 -2.66929019e-01 -1.43918806e+00 -4.07038702e+00\n",
      " -2.04613161e-01  5.98222524e-01  1.76532278e-01  2.78351928e+00\n",
      "  4.89260749e+00  3.74827228e+00 -1.82071962e+00 -5.18895737e+00\n",
      "  8.82265924e+00 -1.44724592e+00 -1.26146800e+00 -6.05946562e-01\n",
      " -7.21534775e+00 -3.89870020e-01 -3.98279070e-01  5.10179149e+00\n",
      "  5.49228575e+00  2.01885445e+00  6.65924187e+00  3.69982492e+00\n",
      "  1.92158944e+00  2.80464084e+00  1.04673253e+00  2.57524298e-02\n",
      "  6.61332316e-01 -3.64005666e+00  3.40220853e+00 -2.96561805e+00\n",
      "  6.20815632e+00  7.52707099e-01  2.24747491e+00  4.46918388e+00\n",
      "  5.21657233e+00 -5.85311704e+00  9.65481619e-01  6.40089456e+00\n",
      " -6.49052910e+00  3.93640238e+00 -9.27782115e+00 -3.11253422e+00\n",
      "  2.19315276e+00 -6.28357551e+00 -2.92755369e+00 -5.35917504e+00\n",
      "  1.02406747e+01  2.82113878e+00  4.83645139e+00  8.86624497e-01\n",
      "  2.32841256e-01 -6.08237094e+00  5.40813186e-01 -1.80746106e+00\n",
      "  6.28961962e+00  7.70550933e+00  9.33289358e+00  6.26275970e+00] [ 0.80269213 -0.23179397  3.53332636  2.71258563 -1.5370769   2.71096359\n",
      "  3.62903964  2.11785118  1.62989266  0.38470302 -0.8930694   3.6005959\n",
      "  1.38177111  1.53306668  5.46544237  3.36900221  2.74165     2.28412361\n",
      "  5.03998972  5.43917861  3.85901022  3.16444918 -2.18920614  2.24744383\n",
      "  1.73978609  2.18790646  3.88609217 -3.47935433  0.86137589  2.53980871\n",
      "  1.06630891 -0.83381223  3.73792697  2.55374381  0.05779086  2.62963441\n",
      "  3.64317142  2.01058529  3.60112961  2.15652035  1.20954203 -0.31884103\n",
      "  1.82813847  2.38858588  3.75166552  1.76978506  2.91483121  0.07077597\n",
      "  0.43474169  1.7792214  -0.10925693  3.64049567  2.92626066  2.55819153\n",
      "  2.67780825  6.04208712  1.06227162 -2.40288257  2.39860039  1.89879292\n",
      "  0.96496191  0.04234028  1.12162096  2.36267686  0.9943666   6.82490736\n",
      "  0.07899124  0.41376527 -2.57724008  2.50296883 -2.03281326  0.92109073\n",
      "  1.44865893  0.58054407  5.47774535  3.98878878  4.63827375  0.23516236\n",
      "  4.25718813  2.99200189  3.5428119   4.05887766  0.18247351  1.15136476\n",
      "  3.72519202 -3.31123819  5.02665617  3.10626413  1.90859208  2.44101531\n",
      " -0.05987057  1.30011327  4.20056868  4.59604394  7.39244811  1.85215067\n",
      "  0.68289407  0.97153207 -0.03608375  1.84429049  2.76546486  1.93151544\n",
      "  4.19269369  1.5315684   1.3050987   0.83746305 -1.26526905 -1.13553545\n",
      " -0.35831586  4.60285614  3.79052055  4.74992813 -0.66442331 -1.93724938\n",
      "  0.67988736  2.35163791  2.99738055  4.09594431  2.56855934  5.48533756\n",
      "  1.55478864  0.17384156 -1.36243643  0.22205728  2.48423592  0.22255949\n",
      "  3.87348493  4.82465541 -2.73917381  3.7281046  -2.47920812  2.80299811\n",
      "  4.44974113  2.12971221 -0.55937835  0.82913759  1.47670911  1.63551043\n",
      "  1.59420632  1.78023444  2.4269601  -0.41714731  1.51596034  5.03652234\n",
      "  1.23070915  1.11232781  4.15639461 -3.11836933  4.3627572   0.73619248\n",
      "  2.32785714  2.19264271  3.88493624  1.46481051  0.64394844  4.59569158\n",
      " -2.72834763  2.04066836 -0.69585085  0.47685322  6.02251336  1.91080915\n",
      "  2.39013939 -1.56312571  0.54191068  2.3931148   2.70951539  3.23377311\n",
      "  2.0172558   3.05400842  2.90756383 -1.65948082  2.07401144  3.53580482\n",
      "  3.17975964  1.27228238  0.38874698 -0.23662385  1.73789198  4.26615976\n",
      " -1.9036082   0.68021654 -0.27960491  3.56991504  0.89138075  1.05872468\n",
      "  1.56610086  2.8907865   1.215222   -4.09228611  3.08662378  2.87808592\n",
      "  1.56091794 -0.16807324  2.70356022  2.75847107  1.05993423  1.56653706\n",
      "  0.13968699  1.64282182 -1.10085869  2.83463764  0.11126302  2.4762063\n",
      " -0.81192583  0.81988471  1.77902119 -1.32139962  2.23029575  1.24170487\n",
      " -1.4847124  -0.60648551  3.21024017  3.79111197  1.73618272  2.80952362\n",
      "  2.44768713  2.65924596  4.57196801 -1.0139968   3.35292146  1.23598209\n",
      "  1.55148213  1.39550054  1.24970577 -0.45239238  2.3666784   5.34188607\n",
      "  1.88773396  1.99722991  0.62540193  1.76505091  2.93233285  1.25951512\n",
      "  1.09239192  2.80652908  0.16399046  2.50499325  3.64064359  4.71989708\n",
      "  1.81923599  4.73519448  4.06881977  0.00757472 -0.43587702  1.39007272\n",
      "  4.05787099  1.85542598  0.79868488  5.10448636  2.57380898 -2.64118855\n",
      "  2.63432125  3.04008123  2.45121731  2.8994242   1.86544878 -0.63679174\n",
      "  1.25859199  0.10876841  0.13451818 -0.5261367   2.90497819  2.19579229\n",
      "  1.10366927  0.70132414  1.95315379  4.15838946 -2.00843143  2.75375304\n",
      "  0.90857605 -1.76917169 -1.89140617  0.17443301  2.43901911  2.78612587\n",
      "  0.12203685  4.03404198  4.84596699  2.79217317  0.81719466  4.24883837\n",
      "  3.51079139  3.73481482  0.68707265 -3.66910901  6.23358204 -1.22175681\n",
      "  1.92846386  6.7614907   2.66115351  3.89849295 -1.00479314 -1.55533391\n",
      "  0.93459442  4.18149947  1.3075011   0.41072736  2.39593458  4.16387044\n",
      " -0.8898804  -0.42108599  0.42266149  4.18927675  2.46964305  6.26430682\n",
      "  3.87289145  1.92980965  4.53015568  2.42299403  0.59015729  3.35994969\n",
      "  0.60734669  1.4192058   4.65556539  1.79743703  0.39371723  1.07132462\n",
      "  4.04358117  0.89491865  1.22625831  0.97941452  2.36785099  1.22902048\n",
      " -1.2036721   0.22563812  0.13442192  4.48663877  3.62534808  3.17451876\n",
      "  0.98928337  0.36841692  0.9849648  -0.10376021  6.99440078 -2.4906433\n",
      "  3.12801707 -0.5691046   1.79131302  0.02399612 -0.35525792 -0.2803926\n",
      "  5.50997231  1.73402316  0.46859561  3.11157393  2.02069863  3.44006752\n",
      " -1.64851331  2.60720781  3.54538967 -1.32319658  2.89639057  5.39236315\n",
      "  1.97028459  3.64281187  3.3411409   0.5849886   2.07953347 -1.13398942\n",
      "  1.09739393  2.53137595  3.44620099  2.04922425  3.43996746 -0.20581243\n",
      "  1.79660545  2.03855877  5.69918249  1.57166669  1.00196672  2.04270245\n",
      "  0.16177311  2.3855077   1.26988957 -1.5826551   1.8828269   1.36491381\n",
      " -1.2648466   1.86573169  4.97871192  3.0426075   3.22385439 -0.68299345\n",
      "  2.95379674  2.29689916  3.05809048  2.84525724 -0.71956145  1.91719838\n",
      "  0.48425828  1.89983181  0.20519815  4.62494073  0.28205522  0.20211569\n",
      "  2.14917281 -0.15419814  1.1506734   0.3400708 ]\n"
     ]
    }
   ],
   "source": [
    "mu2 = 2.0\n",
    "sigma_3 = 5.0\n",
    "sigma_4 = 2.0\n",
    "np.random.seed(0)\n",
    "muestras_3 = np.random.normal(loc = mu2, scale = sigma_3, size = 400)\n",
    "muestras_4 = np.random.normal(loc = mu2, scale = sigma_4, size = 400)\n",
    "print(muestras_3, muestras_4)"
   ]
  },
  {
   "cell_type": "code",
   "execution_count": 13,
   "metadata": {},
   "outputs": [
    {
     "data": {
      "image/png": "[encoded data removed]",
      "text/plain": [
       "<Figure size 432x288 with 1 Axes>"
      ]
     },
     "metadata": {
      "needs_background": "light"
     },
     "output_type": "display_data"
    }
   ],
   "source": [
    "plt.hist(muestras_3, bins = 20, alpha = 0.5, label = 'Histrograma Muestra 3')\n",
    "plt.hist(muestras_4, bins = 20, alpha = 0.5, label = 'Histrograma Muestra 4')\n",
    "plt.legend()\n",
    "plt.grid()\n",
    "plt.show()"
   ]
  },
  {
   "cell_type": "markdown",
   "metadata": {
    "id": "_Ez12LcZU4Uu"
   },
   "source": [
    "### 1.3 Relación entre Probabilidad y Estadística\n",
    "\n",
    "**Promedio y desviación estándar en una distribución Normal**\n",
    "\n",
    "En una distribución normal, el promedio de las muestras obtenidas *tiende* al valor medio $\\mu$ de la distribución, y la desviación estándar *tiende* a la desviacíon estándar $\\sigma$ de la distribución. Notar, entonces, que existen valores calculados (promedio, desviación estándar) y valores teóricos ($\\mu$ y $\\sigma$). Confundirlos entre sí es un error común.\n",
    "\n",
    "Veamos un ejemplo. Nuevamente, obtenemos muestras de una distribución normal:"
   ]
  },
  {
   "cell_type": "code",
   "execution_count": 18,
   "metadata": {
    "id": "55UHxgsWU4Uy"
   },
   "outputs": [],
   "source": [
    "mu = 8.5\n",
    "sigma = 3.0\n",
    "muestras = np.random.normal(loc = mu, scale = sigma, size = 10000)"
   ]
  },
  {
   "cell_type": "markdown",
   "metadata": {
    "id": "IrLpnkqqU4U9"
   },
   "source": [
    "Y calculamos su promedio y desviación estándar, y comparamos con $\\mu$ y $\\sigma$."
   ]
  },
  {
   "cell_type": "code",
   "execution_count": 19,
   "metadata": {
    "id": "k1JKKz5eU4VC"
   },
   "outputs": [
    {
     "name": "stdout",
     "output_type": "stream",
     "text": [
      "Valor medio teorico: 8.5 . Valor medio calculado: 8.525905075745646\n",
      "Desviacion estandar teorica: 3.0 . Desviacion estandar calculada: 2.980956900430511\n"
     ]
    }
   ],
   "source": [
    "print('Valor medio teorico:', mu, '. Valor medio calculado:', muestras.mean())\n",
    "print('Desviacion estandar teorica:', sigma, '. Desviacion estandar calculada:', muestras.std())"
   ]
  },
  {
   "cell_type": "markdown",
   "metadata": {
    "id": "YqQs6D_YU4VQ"
   },
   "source": [
    "Comparemos el histograma de las muestras y la distribución teórica, que graficaremos haciendo uso de la librería `SciPy`:"
   ]
  },
  {
   "cell_type": "code",
   "execution_count": 20,
   "metadata": {
    "id": "bf31AbLMU4VU"
   },
   "outputs": [
    {
     "data": {
      "image/png": "[encoded data removed]",
      "text/plain": [
       "<Figure size 432x288 with 1 Axes>"
      ]
     },
     "metadata": {
      "needs_background": "light"
     },
     "output_type": "display_data"
    }
   ],
   "source": [
    "from scipy.stats import norm\n",
    "\n",
    "plt.hist(muestras, bins=20, density=True, alpha=0.6, color='g')\n",
    "\n",
    "xmin, xmax = plt.xlim()\n",
    "x = np.linspace(xmin, xmax, 100)\n",
    "p = norm.pdf(x, mu, sigma)\n",
    "plt.plot(x, p, 'k', linewidth=2, label = 'Distribución Teórica')\n",
    "\n",
    "title = \"Muestras obtenidas de una distribución normal con mu = %.2f,  sigma = %.2f\" % (mu, sigma)\n",
    "\n",
    "plt.title(title)\n",
    "plt.legend()\n",
    "plt.show()"
   ]
  },
  {
   "cell_type": "markdown",
   "metadata": {},
   "source": [
    "**Nota:** si estás atento/a a la escala en el eje *y*, notarás que es distinta a la escala de los histogramas anteriores. Esto se debe a que, en un histograma, además de graficar la cantidad de muestras que entran en cada intervalo, podemos también graficar la **proporción** de muestras que entran en cada intervalo.\n",
    "\n",
    "**Para pensar y probar:** \n",
    "1. ¿Por qué no coinciden $\\mu$ y $\\sigma$ con los valores calculados?¿Qué podemos hacer para que se parezcan cada vez más?¿Y qué ocurre en ese caso con el histograma y la distribución teórica?\n",
    "2. Con respecto al ejercicio que acabamos de hacer, ¿cuáles son los *parámetros* asociados al mundo de las probabilidades y cuáles son los *valores estadísticos* asociados al mundo de la estadística?"
   ]
  },
  {
   "cell_type": "markdown",
   "metadata": {},
   "source": [
    "1- Porque la muestra no fue del tamaño suficiente. Los datos de la muestra nos permmiten inferir el de la poblacion. Para que se parezcan mas debemos tomar una muestra mas grande. Ambos grafico van a ser similares."
   ]
  },
  {
   "cell_type": "markdown",
   "metadata": {},
   "source": [
    "2- mu y sigma son de la probabilidad, mientras que los calculados son los de la estadistica."
   ]
  },
  {
   "cell_type": "markdown",
   "metadata": {
    "id": "RTOjCCEQU4Vi"
   },
   "source": [
    "### Ejercitación\n",
    " \n",
    "Los siguientes ejercicios pueden parecer muy difíciles, pero te aseguramos que no lo son tanto. ¡Lo importante es que los intentes!\n",
    "\n",
    "**Ejercicio 1 - Challenge:** Muchos juegos de mesa requieren tirar dados y sumar sus resultados. Por ejemplo, el [Catán](https://es.wikipedia.org/wiki/Los_Colonos_de_Cat%C3%A1n). Es evidente que, mientras en un dado la probabilidad de que salga cada cara es la misma, en esta variable aleatoria todos los resultados no son igual de probables (¿Cuáles son los posibles resultados?). Entonces, para mejorar tu estrategia en estos juegos, es útil saber cuál es la probabilidad asociada a cada resultado. Para ello, debes calcular su distribución de probabilidad. Entonces, \n",
    "\n",
    "Obtener la distribución de la variable aleatoria *suma del resultado de tirar dos dados*. Para ello puedes intentar alguna o ambas de las siguientes opciones:\n",
    "1. **Obtener la distribución teórica:** para ello, basta contar los casos *a mano* con lápiz y papel. Por ejemplo:\n",
    "    1. Uno (1) es un resultado imposible\n",
    "    2. Dos (2) solamente puede ser obtenida con ambos dados en 1, 1 + 1\n",
    "    3. Tres (3) tiene dos opciones, 2 + 1 y 1 + 2\n",
    "    4. Cuatro (4) tiene tres opciones: 3 + 1, 2 + 2, 1 + 3\n",
    "    \n",
    "    y así para el resto de los posibles resultados. Completa la lista hasta el 12 y cuenta cuántas combinaciones existen para cada resultado. ¿Cuántos combinaciones debe haber en total, teniendo en cuenta que cada dado tiene seis caras? Al final, debes llevarlos a porcentaje. Por ejemplo, si en total son 100 posibles combinaciones, y el 12 tiene 10 posibles combinaciones, su probabilidad es 10/100 = 0.1\n",
    "    \n",
    "2. **Simular y obtener una distribución aproximada:** otra opción es simular esta situación. Viste en el notebook de la bitácora anterior cómo simular un dado. Ahora simula dos dados y obtiene la suma de sus resultados.\n",
    "\n",
    "¿Te animas a comparar ambos métodos?"
   ]
  },
  {
   "cell_type": "code",
   "execution_count": 26,
   "metadata": {},
   "outputs": [
    {
     "data": {
      "image/png": "[encoded data removed]",
      "text/plain": [
       "<Figure size 432x288 with 1 Axes>"
      ]
     },
     "metadata": {
      "needs_background": "light"
     },
     "output_type": "display_data"
    }
   ],
   "source": [
    "suma = np.array([2, 3, 4, 5, 6, 7, 8, 9, 10, 11, 12])\n",
    "oc_suma = np.array([1, 2, 3, 4, 5, 6, 5, 4, 3, 2, 1])\n",
    "prob_suma = oc_suma * 1/36\n",
    "\n",
    "plt.bar(suma, prob_suma)\n",
    "plt.title('Distribución de probabilidad uniforme: lanzamiento de dos dado')\n",
    "#plt.savefig('distribucion_dado.png', dpi = 400)\n",
    "plt.show()"
   ]
  },
  {
   "cell_type": "code",
   "execution_count": 27,
   "metadata": {
    "id": "327V3n7oU4Vm"
   },
   "outputs": [
    {
     "data": {
      "image/png": "[encoded data removed]",
      "text/plain": [
       "<Figure size 432x288 with 1 Axes>"
      ]
     },
     "metadata": {
      "needs_background": "light"
     },
     "output_type": "display_data"
    }
   ],
   "source": [
    "dado1 = np.random.choice([1,2,3,4,5,6], p=[1/6, 1/6, 1/6, 1/6, 1/6, 1/6], size = 100)\n",
    "dado2 = np.random.choice([1,2,3,4,5,6], p=[1/6, 1/6, 1/6, 1/6, 1/6, 1/6], size = 100)\n",
    "\n",
    "suma = dado1 + dado2\n",
    "\n",
    "plt.hist(suma, bins = np.arange(2, 12,1), density=True, rwidth = 0.8,)\n",
    "plt.show()"
   ]
  },
  {
   "cell_type": "markdown",
   "metadata": {
    "id": "EkNiPekCU4V0"
   },
   "source": [
    "**Ejercicio 2:** Obtiene, simulando, la distribución de la variable aleatoria *máximo valor obtenido al tirar dos dados.* Por ejemplo, si obtenemos 2 y 5, el resultado es 5. Nuevamente, si lo deseas, también puedes contar casos y obtener la distribución teórica."
   ]
  },
  {
   "cell_type": "code",
   "execution_count": 28,
   "metadata": {
    "id": "tzyvWre3U4V4"
   },
   "outputs": [
    {
     "name": "stdout",
     "output_type": "stream",
     "text": [
      "(2, 100)\n"
     ]
    },
    {
     "data": {
      "image/png": "[encoded data removed]",
      "text/plain": [
       "<Figure size 432x288 with 1 Axes>"
      ]
     },
     "metadata": {
      "needs_background": "light"
     },
     "output_type": "display_data"
    }
   ],
   "source": [
    "dado1 = np.random.choice([1,2,3,4,5,6], p=[1/6, 1/6, 1/6, 1/6, 1/6, 1/6], size = 100)\n",
    "dado2 = np.random.choice([1,2,3,4,5,6], p=[1/6, 1/6, 1/6, 1/6, 1/6, 1/6], size = 100)\n",
    "\n",
    "'''Combinamos las muestras obtenidas en un arreglo de dos filas, donde\n",
    "cada columna corresponde a una tirada'''\n",
    "muestras = np.array([dado1,dado2])\n",
    "print(muestras.shape)\n",
    "\n",
    "\n",
    "'''Obtenemos el máximo de cada tirada. Recordar obtener el máximo\n",
    "en el eje (axis) correspondiente'''\n",
    "maximos = np.max(muestras, axis = 0)\n",
    "\n",
    "plt.hist(maximos, bins = np.arange(0.5,7.5,1), density=True, rwidth = 0.8)\n",
    "plt.show()"
   ]
  },
  {
   "cell_type": "markdown",
   "metadata": {
    "id": "Iu_y4bliU4WK"
   },
   "source": [
    "## 2. Correlación\n",
    "\n",
    "El objetivo de esta sección es que te familiarices con los conceptos de **Covarianza** y **Correlación**. Si bien las fórmulas parecen difíciles, esperemos que veas que nada es tan grave como parece. También que prestes atención a cómo a veces es útil simular datos para aprender o acercarse a algunas técnicas.\n",
    "\n",
    "Tenemos dos variables aleatorias $X$ e $Y$, de las cuales tenemos $n$ muestras de cada una, $x_1,x_2,..., x_n$ e $y_1,y_2,..., y_n$. Sus valores medios son $\\bar{x}$ e $\\bar{y}$, respectivamente. Definimos la Covarianza como\n",
    "\n",
    "$$Cov(X,Y) = \\sum_{i=1}^{n} \\frac{(x_i - \\bar{x})(y_i - \\bar{y})}{n}$$\n",
    "\n",
    "A veces verás que, en lugar de dividir por $n$, se divide por $n - 1$ ó $n - 2$, pero eso no es importante ahora. Según Wikipedia, \"la covarianza es un valor que indica el grado de variación conjunta de dos variables aleatorias respecto a sus medias. Es el dato básico para determinar si existe una dependencia entre ambas variables y además es el dato necesario para estimar otros parámetros básicos, como el coeficiente de correlación lineal o la recta de regresión.\". \n",
    "\n",
    "Si bien la fórmula puede parecer difícil, veamos qué nos dice de nuestros datos simulando algunos casos sencillos.\n",
    "\n",
    "Empezamos generandos muestras al azar de dos variables aleatorias no relacionadas entre sí. "
   ]
  },
  {
   "cell_type": "code",
   "execution_count": 29,
   "metadata": {
    "id": "q66jDC_IU4WO"
   },
   "outputs": [],
   "source": [
    "import matplotlib.pyplot as plt\n",
    "import numpy as np"
   ]
  },
  {
   "cell_type": "code",
   "execution_count": 37,
   "metadata": {
    "id": "dWwL1LZ7U4Wa"
   },
   "outputs": [
    {
     "data": {
      "image/png": "[encoded data removed]",
      "text/plain": [
       "<Figure size 432x288 with 1 Axes>"
      ]
     },
     "metadata": {
      "needs_background": "light"
     },
     "output_type": "display_data"
    }
   ],
   "source": [
    "n = 1000\n",
    "sigma_1 = 10\n",
    "sigma_2 = 20\n",
    "x = np.random.normal(size = n, scale = sigma_1)\n",
    "y = np.random.normal(size = n, scale = sigma_2)\n",
    "\n",
    "# Graficamos\n",
    "plt.scatter(x, y)\n",
    "plt.grid()\n",
    "plt.xlim([-60,60])\n",
    "plt.ylim([-60,60])\n",
    "plt.show()"
   ]
  },
  {
   "cell_type": "markdown",
   "metadata": {
    "id": "w44BW3CCU4Wl"
   },
   "source": [
    "¿Hay alguna relación entre ellos? Por relación nos referimos a \"variación conjunta\". Y por \"variación conjunta\" podemos imaginarnos que si una de las variables aumenta, la otra también lo hace. Y si una variable disminuye su valor, la otra también lo hace. La covarianza intenta cuantificar esa relación."
   ]
  },
  {
   "cell_type": "code",
   "execution_count": 38,
   "metadata": {
    "id": "3wX-H3y-U4Wo"
   },
   "outputs": [
    {
     "name": "stdout",
     "output_type": "stream",
     "text": [
      "3.9269034316188556\n"
     ]
    }
   ],
   "source": [
    "cov = np.sum((x - x.mean())*(y - y.mean()))/x.size\n",
    "print(cov)"
   ]
  },
  {
   "cell_type": "markdown",
   "metadata": {
    "id": "zzbRb7kmU4W0"
   },
   "source": [
    "La covarianza, sin embargo, tiene un pequeño problema: depende de la escala de nuestros datos. Entonces, para deshacernos de la escala, se puede definir la Correlación, que no es otra cosa que la covarianza dividida la desviación estándar de cada variable aletaria.\n",
    "\n",
    "$$Corr(X,Y) = \\frac{Cov(X,Y)}{\\sigma_X \\sigma_Y}$$"
   ]
  },
  {
   "cell_type": "code",
   "execution_count": 39,
   "metadata": {
    "id": "wW2-EG20U4W2"
   },
   "outputs": [
    {
     "name": "stdout",
     "output_type": "stream",
     "text": [
      "0.019852573212706944\n"
     ]
    }
   ],
   "source": [
    "corr = cov/(x.std()*y.std())\n",
    "print(corr)"
   ]
  },
  {
   "cell_type": "markdown",
   "metadata": {
    "id": "UHClidVeU4XC"
   },
   "source": [
    "Y con eso nos deshacemos de la escala. Un valor cercano a cero nos indica que no existe una relación (¿lineal?) entre las variables.\n",
    "\n",
    "**Probar** con distintas escalas (modificando `sigma_1` y `sigma_2`) y verán que `cov` tomará valores en un rango muy amplio, mientras que `corr` se mantendrá cercana a cero.\n",
    "\n",
    "### 2.1 Relación lineal\n",
    "\n",
    "Veamos otro ejemplo: sabemos que existe una relación lineal entre $X$ e $Y$, es decir, podemos aproximar $Y =aX+b$, donde $a$ y $b$ son la pendiente y la ordenada al origen."
   ]
  },
  {
   "cell_type": "code",
   "execution_count": 43,
   "metadata": {
    "id": "JV0TUTcCU4XE"
   },
   "outputs": [
    {
     "data": {
      "image/png": "[encoded data removed]",
      "text/plain": [
       "<Figure size 432x288 with 1 Axes>"
      ]
     },
     "metadata": {
      "needs_background": "light"
     },
     "output_type": "display_data"
    }
   ],
   "source": [
    "n = 100\n",
    "x = np.linspace(-1,1,n) + 0.25*np.random.normal(size = n)\n",
    "y = -4.5*x + 0.25*np.random.normal(size = n)\n",
    "\n",
    "# Graficamos\n",
    "plt.scatter(x, y)\n",
    "plt.grid()\n",
    "plt.show()"
   ]
  },
  {
   "cell_type": "markdown",
   "metadata": {
    "id": "SpN-9JFmU4XM"
   },
   "source": [
    "La covarianza nos da"
   ]
  },
  {
   "cell_type": "code",
   "execution_count": 44,
   "metadata": {
    "id": "LEzzOeFtU4XR"
   },
   "outputs": [
    {
     "name": "stdout",
     "output_type": "stream",
     "text": [
      "-1.7305254211599626\n"
     ]
    }
   ],
   "source": [
    "cov = np.sum((x - x.mean())*(y - y.mean()))/x.size\n",
    "print(cov)"
   ]
  },
  {
   "cell_type": "code",
   "execution_count": 45,
   "metadata": {
    "id": "ofbVUp7xU4Xa"
   },
   "outputs": [
    {
     "data": {
      "text/plain": [
       "-0.9962682449868988"
      ]
     },
     "execution_count": 45,
     "metadata": {},
     "output_type": "execute_result"
    }
   ],
   "source": [
    "corr = cov/(x.std()*y.std())\n",
    "corr"
   ]
  },
  {
   "cell_type": "markdown",
   "metadata": {
    "id": "3O19qjolU4Xi"
   },
   "source": [
    "Ahora, en cambio, el valor es cercano a uno, indicando una relación lineal creciente entre ambas variables.\n",
    "\n",
    "**Probar** cambiando la pendiente de la función lineal (el número que multiplica a `x` en `y = ...`) y mirar qué pasa. ¿Qué pasa si la pendiente es negativa?"
   ]
  },
  {
   "cell_type": "markdown",
   "metadata": {
    "id": "vjgjstKaU4Xm"
   },
   "source": [
    "#### Conclusiones\n",
    "\n",
    "1. La covarianza es una medida de la variación conjunta de dos variables. Pero tiene un problema: depende de la escala.\n",
    "2. Para \"deshacernos\" de la escala, definimos la correlación, que es simplemente la covarianza dividida por el producto de la desviación estándar de cada variable. **Para pensar:** ¿por qué la desviación estándar está asociada a la escala de una variable?\n",
    "3. La correlación es un valor entre -1 y 1. La correlación toma un valor cercano a uno cuando hay una relación lineal creciente entre las variables, cero cuando no hay relación y -1 cuando hay una relación lineal decreciente.\n",
    "4. Esta correlación tiene un nombre particular: **Correlación de Pearson**."
   ]
  },
  {
   "cell_type": "markdown",
   "metadata": {
    "id": "piVs0Av1U4Xp"
   },
   "source": [
    "### 2.2 Covarianza y Correlación con NumPy\n",
    "\n",
    "**Esta sección es opcional**\n",
    "\n",
    "NumPy ya tiene incorporadas funciones que calculan la covarianza y la correlación entre dos variables. La única diferencia es que, en lugar de devolver un único valor, devuelve cuatro valores, que corresponden a la covarianza/correlación entre $X$ con $X$, $X$ con $Y$, $Y$ con $X$, e $Y$ con $Y$. ¿Por qué, en la correlación, algunos valores son exactamente uno (1.)?"
   ]
  },
  {
   "cell_type": "code",
   "execution_count": 46,
   "metadata": {
    "id": "frlmIIkKU4Xr"
   },
   "outputs": [
    {
     "data": {
      "text/plain": [
       "array([[ 0.38871598, -1.74800548],\n",
       "       [-1.74800548,  7.91955194]])"
      ]
     },
     "execution_count": 46,
     "metadata": {},
     "output_type": "execute_result"
    }
   ],
   "source": [
    "np.cov([x,y])"
   ]
  },
  {
   "cell_type": "code",
   "execution_count": 47,
   "metadata": {
    "id": "AWJOKo6sU4Xz"
   },
   "outputs": [
    {
     "data": {
      "text/plain": [
       "array([[ 1.        , -0.99626824],\n",
       "       [-0.99626824,  1.        ]])"
      ]
     },
     "execution_count": 47,
     "metadata": {},
     "output_type": "execute_result"
    }
   ],
   "source": [
    "np.corrcoef([x,y])"
   ]
  },
  {
   "cell_type": "markdown",
   "metadata": {
    "id": "MyrooOHbU4X8"
   },
   "source": [
    "### 2.3 Relación No-Lineal entre variables\n",
    "\n",
    "**Esta sección es opcional, pero recomendamos leerla**\n",
    "\n",
    "¿Qué ocurre cuando la relación no es lineal entre las variables? Veámoslo con un ejemplo.\n"
   ]
  },
  {
   "cell_type": "code",
   "execution_count": 48,
   "metadata": {
    "id": "iW2lL_d8U4X-"
   },
   "outputs": [
    {
     "data": {
      "image/png": "[encoded data removed]",
      "text/plain": [
       "<Figure size 432x288 with 1 Axes>"
      ]
     },
     "metadata": {
      "needs_background": "light"
     },
     "output_type": "display_data"
    }
   ],
   "source": [
    "n = 1000\n",
    "x = np.linspace(-5,5,n) + 0.25*np.random.normal(size = n)\n",
    "y = x**2 + 0.25*np.random.normal(size = n)\n",
    "\n",
    "# Graficamos\n",
    "plt.scatter(x, y)\n",
    "plt.grid()\n",
    "plt.show()"
   ]
  },
  {
   "cell_type": "markdown",
   "metadata": {
    "id": "x0f8gozSU4YF"
   },
   "source": [
    "La covarianza nos da"
   ]
  },
  {
   "cell_type": "code",
   "execution_count": 49,
   "metadata": {
    "id": "qyOWwrbQU4YH"
   },
   "outputs": [
    {
     "name": "stdout",
     "output_type": "stream",
     "text": [
      "-0.008941470047768234\n"
     ]
    }
   ],
   "source": [
    "cov = np.sum((x - x.mean())*(y - y.mean()))/x.size\n",
    "print(cov)"
   ]
  },
  {
   "cell_type": "code",
   "execution_count": 50,
   "metadata": {
    "id": "_90NldnwU4YP"
   },
   "outputs": [
    {
     "data": {
      "text/plain": [
       "-0.0004132106953853736"
      ]
     },
     "execution_count": 50,
     "metadata": {},
     "output_type": "execute_result"
    }
   ],
   "source": [
    "corr = cov/(x.std()*y.std())\n",
    "corr"
   ]
  },
  {
   "cell_type": "markdown",
   "metadata": {
    "id": "9XiFp1CZU4YX"
   },
   "source": [
    "Notar que la correlación de un valor alrededor de cero, indicando que no hay una correlación entre ambas variables. Pero esto NO indica que no hay una *relación* entre esas variables, solamente nos dice que no es lineal. Por eso es muy importante graficar.\n",
    "\n",
    "**Probar** cambiando la relación matemática entre `x` e `y` y mirar qué pasa.\n",
    "\n",
    "Para tratar con relaciones no lineal entre variables, existen otros tipos de correlaciones. La que vimos se llama **Correlación de Pearson**, que es la más famosa. Pero también existen otras, Spearman y Kendall, que son muy útiles cuando existe una relación no lineal entre variables.\n",
    "\n",
    "### 3. Correlación en Pandas\n",
    "\n",
    "Probablemente ya estés un poco mareado/a con tantos términos, conceptos y líneas de código. Si no entendiste del todo lo anterior, no te preocupes. Vamos a ver cómo lo aplicamos en un conjunto de datos. ¡Verás que es muy sencillo!\n",
    "\n",
    "Para eso, volvemos a usar el Iris Dataset del encuentro anterior."
   ]
  },
  {
   "cell_type": "code",
   "execution_count": 51,
   "metadata": {
    "id": "jwu9X-67U4Ya"
   },
   "outputs": [],
   "source": [
    "import pandas as pd"
   ]
  },
  {
   "cell_type": "code",
   "execution_count": 57,
   "metadata": {
    "id": "QSWYv0_WU4Yk"
   },
   "outputs": [
    {
     "data": {
      "text/html": [
       "<div>\n",
       "<style scoped>\n",
       "    .dataframe tbody tr th:only-of-type {\n",
       "        vertical-align: middle;\n",
       "    }\n",
       "\n",
       "    .dataframe tbody tr th {\n",
       "        vertical-align: top;\n",
       "    }\n",
       "\n",
       "    .dataframe thead th {\n",
       "        text-align: right;\n",
       "    }\n",
       "</style>\n",
       "<table border=\"1\" class=\"dataframe\">\n",
       "  <thead>\n",
       "    <tr style=\"text-align: right;\">\n",
       "      <th></th>\n",
       "      <th>SepalLengthCm</th>\n",
       "      <th>SepalWidthCm</th>\n",
       "      <th>PetalLengthCm</th>\n",
       "      <th>PetalWidthCm</th>\n",
       "      <th>Species</th>\n",
       "    </tr>\n",
       "  </thead>\n",
       "  <tbody>\n",
       "    <tr>\n",
       "      <th>0</th>\n",
       "      <td>5.1</td>\n",
       "      <td>3.5</td>\n",
       "      <td>1.4</td>\n",
       "      <td>0.2</td>\n",
       "      <td>Iris-setosa</td>\n",
       "    </tr>\n",
       "    <tr>\n",
       "      <th>1</th>\n",
       "      <td>4.9</td>\n",
       "      <td>3.0</td>\n",
       "      <td>1.4</td>\n",
       "      <td>0.2</td>\n",
       "      <td>Iris-setosa</td>\n",
       "    </tr>\n",
       "    <tr>\n",
       "      <th>2</th>\n",
       "      <td>4.7</td>\n",
       "      <td>3.2</td>\n",
       "      <td>1.3</td>\n",
       "      <td>0.2</td>\n",
       "      <td>Iris-setosa</td>\n",
       "    </tr>\n",
       "    <tr>\n",
       "      <th>3</th>\n",
       "      <td>4.6</td>\n",
       "      <td>3.1</td>\n",
       "      <td>1.5</td>\n",
       "      <td>0.2</td>\n",
       "      <td>Iris-setosa</td>\n",
       "    </tr>\n",
       "    <tr>\n",
       "      <th>4</th>\n",
       "      <td>5.0</td>\n",
       "      <td>3.6</td>\n",
       "      <td>1.4</td>\n",
       "      <td>0.2</td>\n",
       "      <td>Iris-setosa</td>\n",
       "    </tr>\n",
       "  </tbody>\n",
       "</table>\n",
       "</div>"
      ],
      "text/plain": [
       "   SepalLengthCm  SepalWidthCm  PetalLengthCm  PetalWidthCm      Species\n",
       "0            5.1           3.5            1.4           0.2  Iris-setosa\n",
       "1            4.9           3.0            1.4           0.2  Iris-setosa\n",
       "2            4.7           3.2            1.3           0.2  Iris-setosa\n",
       "3            4.6           3.1            1.5           0.2  Iris-setosa\n",
       "4            5.0           3.6            1.4           0.2  Iris-setosa"
      ]
     },
     "execution_count": 57,
     "metadata": {},
     "output_type": "execute_result"
    }
   ],
   "source": [
    "data = pd.read_csv('DS_Bitácora_04_Iris.csv')\n",
    "data.drop(columns = 'Id', inplace = True)\n",
    "data.head()"
   ]
  },
  {
   "cell_type": "markdown",
   "metadata": {
    "id": "_hpR90jUU4Yr"
   },
   "source": [
    "Para obtener las correlaciones entre las distintas variables, simplemente tenemos que hacer:"
   ]
  },
  {
   "cell_type": "code",
   "execution_count": 58,
   "metadata": {
    "id": "j24K4utyU4Yw"
   },
   "outputs": [
    {
     "data": {
      "text/html": [
       "<div>\n",
       "<style scoped>\n",
       "    .dataframe tbody tr th:only-of-type {\n",
       "        vertical-align: middle;\n",
       "    }\n",
       "\n",
       "    .dataframe tbody tr th {\n",
       "        vertical-align: top;\n",
       "    }\n",
       "\n",
       "    .dataframe thead th {\n",
       "        text-align: right;\n",
       "    }\n",
       "</style>\n",
       "<table border=\"1\" class=\"dataframe\">\n",
       "  <thead>\n",
       "    <tr style=\"text-align: right;\">\n",
       "      <th></th>\n",
       "      <th>SepalLengthCm</th>\n",
       "      <th>SepalWidthCm</th>\n",
       "      <th>PetalLengthCm</th>\n",
       "      <th>PetalWidthCm</th>\n",
       "    </tr>\n",
       "  </thead>\n",
       "  <tbody>\n",
       "    <tr>\n",
       "      <th>SepalLengthCm</th>\n",
       "      <td>1.000000</td>\n",
       "      <td>-0.109369</td>\n",
       "      <td>0.871754</td>\n",
       "      <td>0.817954</td>\n",
       "    </tr>\n",
       "    <tr>\n",
       "      <th>SepalWidthCm</th>\n",
       "      <td>-0.109369</td>\n",
       "      <td>1.000000</td>\n",
       "      <td>-0.420516</td>\n",
       "      <td>-0.356544</td>\n",
       "    </tr>\n",
       "    <tr>\n",
       "      <th>PetalLengthCm</th>\n",
       "      <td>0.871754</td>\n",
       "      <td>-0.420516</td>\n",
       "      <td>1.000000</td>\n",
       "      <td>0.962757</td>\n",
       "    </tr>\n",
       "    <tr>\n",
       "      <th>PetalWidthCm</th>\n",
       "      <td>0.817954</td>\n",
       "      <td>-0.356544</td>\n",
       "      <td>0.962757</td>\n",
       "      <td>1.000000</td>\n",
       "    </tr>\n",
       "  </tbody>\n",
       "</table>\n",
       "</div>"
      ],
      "text/plain": [
       "               SepalLengthCm  SepalWidthCm  PetalLengthCm  PetalWidthCm\n",
       "SepalLengthCm       1.000000     -0.109369       0.871754      0.817954\n",
       "SepalWidthCm       -0.109369      1.000000      -0.420516     -0.356544\n",
       "PetalLengthCm       0.871754     -0.420516       1.000000      0.962757\n",
       "PetalWidthCm        0.817954     -0.356544       0.962757      1.000000"
      ]
     },
     "execution_count": 58,
     "metadata": {},
     "output_type": "execute_result"
    }
   ],
   "source": [
    "data.corr()"
   ]
  },
  {
   "cell_type": "markdown",
   "metadata": {
    "id": "1ePNNkIzU4Y3"
   },
   "source": [
    "**Para responder**: ¿Cuáles variables están correlacionadas entre sí?¿Por qué los elementos de la diagonal son exactamente uno (1.0)?\n",
    "\n",
    "Dentro de dos encuentros veremos una forma más eficiente de visualizar esta información, ¡pero ya puedes aplicarla!"
   ]
  },
  {
   "cell_type": "markdown",
   "metadata": {},
   "source": [
    "Estan relacionadas linealmente: \n",
    "* SepalLengthCm y PetalLengthCm\n",
    "* SepalLengthCm y PetalWidthCm\n",
    "* PetalWidthCm y PetalLengthCm"
   ]
  },
  {
   "cell_type": "markdown",
   "metadata": {},
   "source": [
    "La diagonal es 1 porque esta verificando la relacion entre las mismas variables."
   ]
  }
 ],
 "metadata": {
  "colab": {
   "collapsed_sections": [],
   "name": "DS_Bitácora_05_Probabilidad.ipynb",
   "provenance": []
  },
  "kernelspec": {
   "display_name": "Python 3",
   "language": "python",
   "name": "python3"
  },
  "language_info": {
   "codemirror_mode": {
    "name": "ipython",
    "version": 3
   },
   "file_extension": ".py",
   "mimetype": "text/x-python",
   "name": "python",
   "nbconvert_exporter": "python",
   "pygments_lexer": "ipython3",
   "version": "3.8.5"
  }
 },
 "nbformat": 4,
 "nbformat_minor": 1
}
